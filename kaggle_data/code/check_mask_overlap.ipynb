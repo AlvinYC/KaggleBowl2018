{
 "cells": [
  {
   "cell_type": "code",
   "execution_count": 1,
   "metadata": {},
   "outputs": [],
   "source": [
    "# webstie https://nucleisegmentationbenchmark.weebly.com\n",
    "# paper   https://drive.google.com/file/d/0ByERBiBsEbuTOEJISEpwSkR0SlE/view\n",
    "import os\n",
    "import re\n",
    "import PIL\n",
    "import time\n",
    "import random\n",
    "import shutil\n",
    "import itertools\n",
    "import collections\n",
    "import numpy as np\n",
    "import re\n",
    "\n",
    "import matplotlib.pyplot as plt\n",
    "from PIL import Image\n",
    "from pathlib import Path"
   ]
  },
  {
   "cell_type": "code",
   "execution_count": 6,
   "metadata": {},
   "outputs": [
    {
     "name": "stdout",
     "output_type": "stream",
     "text": [
      "==========================================================\n",
      "697a05c6fe4a07c601d46da80885645ad574ea19b47ee795ccff216c9f1f1808_sub01.png(43, 42, 3)\n",
      "==========================================================\n",
      "697a05c6fe4a07c601d46da80885645ad574ea19b47ee795ccff216c9f1f1808_sub02.png(42, 48, 3)\n",
      "==========================================================\n",
      "697a05c6fe4a07c601d46da80885645ad574ea19b47ee795ccff216c9f1f1808_sub03.png(48, 35, 3)\n",
      "==========================================================\n",
      "697a05c6fe4a07c601d46da80885645ad574ea19b47ee795ccff216c9f1f1808_sub04.png(65, 56, 3)\n",
      "==========================================================\n",
      "7bdb668e6127b7eafc837a883f0648002bd063c736f55a4f673e787250a3fb04_sub01.png(140, 103, 3)\n",
      "==========================================================\n",
      "8b59819fbc92eefe45b1db95c0cc3a467ddcfc755684c7f2ba2f6ccb9ad740ab_sub01.png(93, 101, 3)\n",
      "==========================================================\n",
      "8b59819fbc92eefe45b1db95c0cc3a467ddcfc755684c7f2ba2f6ccb9ad740ab_sub02.png(87, 115, 3)\n",
      "==========================================================\n",
      "f0d0ab13ff53adc3c4d57e95a5f83d80b06f2cbc0bf002b52cf7b496612e0ce4_sub01.png(109, 140, 3)\n"
     ]
    }
   ],
   "source": [
    "#DATASET_DIR = Path('/home/alvin/cei/notebook_home/kaggleBowl2018/kaggle_data/stage1_train_fix_v4/test/')\n",
    "#DATASET_DIR = Path('/home/alvin/cei/notebook_home/kaggleBowl2018/kaggle_data/test_output/')\n",
    "DATASET_DIR = Path('/home/alvin/cei/notebook_home/kaggleBowl2018/unet_label/alvin_relabel/')\n",
    "#DATASET_DIR = Path('/home/alvin/cei/notebook_home/kaggleBowl2018/unet_label/unet_fix_ray_0329_01/')\n",
    "#DATASET_DIR = Path('/home/alvin/cei/notebook_home/kaggleBowl2018/unet_label/Unet_fix_ShannChing_v2/')\n",
    "\n",
    "\n",
    "#DATASET_DIR = Path('../../../kaggle_data/stage1_train/')\n",
    "DATASET_DIR_LIST = sorted(list(DATASET_DIR.glob('*')))\n",
    "region_info = []\n",
    "mask_num = 0\n",
    "for data_dir in DATASET_DIR_LIST:\n",
    "    if not os.path.isdir(str(data_dir)): continue\n",
    "    img_name = str(data_dir.stem) + '.png'\n",
    "\n",
    "    #print(img_name +'\\n==========================================================================')\n",
    "    img_dir = data_dir / 'images' / img_name\n",
    "    im = Image.open(img_dir)\n",
    "    title = '==========================================================\\n'\n",
    "    title += img_name + str(np.array(im).shape)\n",
    "    print(title)\n",
    "    mask_dir = data_dir / 'masks'\n",
    "    mask_dir_list = sorted(list(mask_dir.glob('*.png')))\n",
    "\n",
    "    mask_flag = {}\n",
    "    overlap_group = 0\n",
    "    \n",
    "    #print(data_dir.stem + ',' + str(im.width) + ',' + str(im.height) + ',' + str(len(mask_dir_list)))\n",
    "    \n",
    "    mask_dir_string = [str(this_string) for this_string in mask_dir_list]\n",
    "    mask_num += len(mask_dir_string)\n",
    "    \n",
    "    for mask_path_a in mask_dir_string:\n",
    "        short_path_a = re.sub('.*/|\\.png','',mask_path_a)\n",
    "        if short_path_a in mask_flag.keys(): continue\n",
    "\n",
    "        mask_flag[short_path_a] = 1\n",
    "        mask_img_a = np.array(Image.open(mask_path_a))\n",
    "\n",
    "        #mask_img_a = np.array(Image.open(mask_path_a))\n",
    "        #print(short_path_a + '==> ' + str(mask_img_a.shape))\n",
    "        if len(mask_img_a.shape) != 2:\n",
    "            print('[A]'+ short_path_a + '\\t' + str(mask_img_a.shape))\n",
    "            mask_img_a = mask_img_a[:,:,:3]\n",
    "            mask_img_a = mask_img_a[:,:,0]\n",
    "            #continue\n",
    "        \n",
    "        #if len(mask_img_a[mask_img_a==255]) < 5:\n",
    "        #    print(short_path_a + '==> num of pixel < 5')\n",
    "        is_overlap = 0\n",
    "        for mask_path_b in mask_dir_string:\n",
    "            short_path_b = re.sub('.*/|\\.png','',mask_path_b)\n",
    "            if short_path_b in mask_flag.keys(): continue\n",
    "            mask_img_b = np.array(Image.open(mask_path_b))\n",
    "            if len(mask_img_b.shape) != 2:\n",
    "                mask_img_b = mask_img_b[:,:,:3]\n",
    "                mask_img_b = mask_img_b[:,:,0]\n",
    "                print('[B]' + short_path_b + '\\t' + str(mask_img_b.shape))\n",
    "                #continue\n",
    "            #check overlap\n",
    "            overlap_part = (mask_img_a//255 * mask_img_b//255) * 255\n",
    "            if np.any(overlap_part == 255):\n",
    "                mask_flag[short_path_b] = 1\n",
    "                is_overlap = 1\n",
    "                print(short_path_a+'\\t' + short_path_b)\n",
    "        if is_overlap == 1:\n",
    "            print('-------------------------------------------------------')\n",
    "        \n"
   ]
  },
  {
   "cell_type": "code",
   "execution_count": 12,
   "metadata": {},
   "outputs": [
    {
     "data": {
      "text/plain": [
       "(109, 140)"
      ]
     },
     "execution_count": 12,
     "metadata": {},
     "output_type": "execute_result"
    }
   ],
   "source": [
    "mask_img_b.shape"
   ]
  },
  {
   "cell_type": "code",
   "execution_count": null,
   "metadata": {},
   "outputs": [],
   "source": [
    "img_dir = data_dir / 'images' / img_name\n",
    "print(img_dir)\n",
    "im = np.array(Image.open(img_dir))\n",
    "im.shape"
   ]
  },
  {
   "cell_type": "code",
   "execution_count": null,
   "metadata": {},
   "outputs": [],
   "source": [
    "#str(DATASET_DIR_LIST[0])\n",
    "#given_a = str(DATASET_DIR) + '/masks/' + '27329fa0468d5c45a9592ca1bdb95317f9b97d504fe2c6e1bbcffd91a8f87427' +'.png'\n",
    "#given_b = str(DATASET_DIR) + '/masks/' + '72e708e64a10ae8cce6397caf36d995b3d3b87506e47edc017f2e1d36b0783ac' +'.png'\n",
    "given_a = str(DATASET_DIR_LIST[0]) + '/masks/' + '27329fa0468d5c45a9592ca1bdb95317f9b97d504fe2c6e1bbcffd91a8f87427' +'.png'\n",
    "given_b = str(DATASET_DIR_LIST[0]) + '/masks/' + '72e708e64a10ae8cce6397caf36d995b3d3b87506e47edc017f2e1d36b0783ac' +'.png'"
   ]
  },
  {
   "cell_type": "code",
   "execution_count": null,
   "metadata": {},
   "outputs": [],
   "source": [
    "mask_img_a = np.array(Image.open(given_a))\n",
    "mask_img_b = np.array(Image.open(given_b))\n",
    "print(mask_img_a.shape)\n",
    "print(mask_img_b.shape)"
   ]
  },
  {
   "cell_type": "code",
   "execution_count": null,
   "metadata": {},
   "outputs": [],
   "source": [
    "gray_img_a = mask_img_a[:,:,0]   # [520,693,3] RGB ==> [520,693] GRAY\n",
    "gray_img_b = mask_img_b[:,:,0]   # [520,693,3] RGB ==> [520,693] GRAY\n",
    "\n",
    "#tt = np.zeros((520,696))     # manually crate a gray image\n",
    "#tt[80:100,400:500] = 255\n",
    "outimg = (gray_img//255 * tt//255) * 255 # check overlap part"
   ]
  },
  {
   "cell_type": "code",
   "execution_count": null,
   "metadata": {},
   "outputs": [],
   "source": [
    "plt.figure(figsize=(15,10))\n",
    "ax1 = plt.subplot(1,3,1)\n",
    "ax1.imshow(mask_img)\n",
    "ax2 = plt.subplot(1,3,2)\n",
    "ax2.imshow(gray_img_b,cmap='gray')\n",
    "ax3 = plt.subplot(1,3,3)\n",
    "ax3.imshow(outimg,cmap='gray')\n",
    "plt.show()"
   ]
  },
  {
   "cell_type": "code",
   "execution_count": null,
   "metadata": {},
   "outputs": [],
   "source": [
    "np.any(outimg==255)"
   ]
  },
  {
   "cell_type": "code",
   "execution_count": null,
   "metadata": {},
   "outputs": [],
   "source": [
    "mask_flag = {}"
   ]
  },
  {
   "cell_type": "code",
   "execution_count": null,
   "metadata": {},
   "outputs": [],
   "source": [
    "mask_flag[]"
   ]
  },
  {
   "cell_type": "code",
   "execution_count": null,
   "metadata": {},
   "outputs": [],
   "source": [
    "short_path_a"
   ]
  },
  {
   "cell_type": "code",
   "execution_count": null,
   "metadata": {},
   "outputs": [],
   "source": [
    "mask_flag[short_path_a] = 1"
   ]
  },
  {
   "cell_type": "code",
   "execution_count": null,
   "metadata": {},
   "outputs": [],
   "source": [
    "if mask_flag[short_path_a] == 1:\n",
    "    print('good')\n",
    "else:\n",
    "    print('bad')"
   ]
  },
  {
   "cell_type": "code",
   "execution_count": null,
   "metadata": {},
   "outputs": [],
   "source": [
    "mask_img_a.shape"
   ]
  },
  {
   "cell_type": "code",
   "execution_count": null,
   "metadata": {},
   "outputs": [],
   "source": [
    "gray_img_a = mask_img_a[:,:,0]"
   ]
  },
  {
   "cell_type": "code",
   "execution_count": null,
   "metadata": {},
   "outputs": [],
   "source": [
    "gray_img_a.shape"
   ]
  },
  {
   "cell_type": "code",
   "execution_count": null,
   "metadata": {},
   "outputs": [],
   "source": [
    "len(gray_img_a[gray_img_a==255])"
   ]
  },
  {
   "cell_type": "code",
   "execution_count": null,
   "metadata": {},
   "outputs": [],
   "source": [
    "mask_img_a.shape"
   ]
  },
  {
   "cell_type": "code",
   "execution_count": null,
   "metadata": {},
   "outputs": [],
   "source": [
    "mask_img_b.shape"
   ]
  },
  {
   "cell_type": "markdown",
   "metadata": {},
   "source": [
    "mask_path_b"
   ]
  },
  {
   "cell_type": "code",
   "execution_count": null,
   "metadata": {},
   "outputs": [],
   "source": [
    "mask_path_b"
   ]
  },
  {
   "cell_type": "code",
   "execution_count": null,
   "metadata": {},
   "outputs": [],
   "source": [
    "mask_img_b = np.array(Image.open(mask_path_b))"
   ]
  },
  {
   "cell_type": "code",
   "execution_count": null,
   "metadata": {},
   "outputs": [],
   "source": [
    "mask_img_b.shape"
   ]
  },
  {
   "cell_type": "code",
   "execution_count": null,
   "metadata": {},
   "outputs": [],
   "source": []
  }
 ],
 "metadata": {
  "kernelspec": {
   "display_name": "Python 3",
   "language": "python",
   "name": "python3"
  },
  "language_info": {
   "codemirror_mode": {
    "name": "ipython",
    "version": 3
   },
   "file_extension": ".py",
   "mimetype": "text/x-python",
   "name": "python",
   "nbconvert_exporter": "python",
   "pygments_lexer": "ipython3",
   "version": "3.6.4"
  }
 },
 "nbformat": 4,
 "nbformat_minor": 2
}
