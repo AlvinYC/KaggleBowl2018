{
 "cells": [
  {
   "cell_type": "code",
   "execution_count": 24,
   "metadata": {
    "collapsed": true
   },
   "outputs": [],
   "source": [
    "# webstie https://nucleisegmentationbenchmark.weebly.com\n",
    "# paper   https://drive.google.com/file/d/0ByERBiBsEbuTOEJISEpwSkR0SlE/view\n",
    "import os\n",
    "import numpy as np\n",
    "import PIL\n",
    "import collections\n",
    "from PIL import Image, ImageTk\n"
   ]
  },
  {
   "cell_type": "code",
   "execution_count": 35,
   "metadata": {},
   "outputs": [
    {
     "name": "stdout",
     "output_type": "stream",
     "text": [
      "train_ids = 30\n",
      "xml_ids = 30\n"
     ]
    }
   ],
   "source": [
    "TRAIN_PATH = '../orig_data/Tissue images/'\n",
    "XML_PATH = '../orig_data/Annotations/'\n",
    "train_ids = next(os.walk(TRAIN_PATH))[2]\n",
    "xml_ids = next(os.walk(XML_PATH))[2]\n",
    "print('train_ids = ' + str(len(train_ids)) + '\\nxml_ids = ' + str(len(xml_ids)))"
   ]
  },
  {
   "cell_type": "code",
   "execution_count": 33,
   "metadata": {
    "collapsed": true,
    "scrolled": true
   },
   "outputs": [],
   "source": [
    "img_filenames = [TRAIN_PATH + f for f in train_ids]\n",
    "xml_filenames = [XML_PATH + f for f in xml_ids]\n",
    "#img_filenames\n",
    "#xml_filenames"
   ]
  },
  {
   "cell_type": "code",
   "execution_count": 34,
   "metadata": {},
   "outputs": [
    {
     "data": {
      "text/plain": [
       "Counter({(1000, 1000): 30})"
      ]
     },
     "execution_count": 34,
     "metadata": {},
     "output_type": "execute_result"
    }
   ],
   "source": [
    "sizes = [Image.open(f).size for f in img_filenames]\n",
    "collections.Counter(sizes)"
   ]
  },
  {
   "cell_type": "code",
   "execution_count": null,
   "metadata": {
    "collapsed": true
   },
   "outputs": [],
   "source": []
  }
 ],
 "metadata": {
  "kernelspec": {
   "display_name": "Python 3",
   "language": "python",
   "name": "python3"
  },
  "language_info": {
   "codemirror_mode": {
    "name": "ipython",
    "version": 3
   },
   "file_extension": ".py",
   "mimetype": "text/x-python",
   "name": "python",
   "nbconvert_exporter": "python",
   "pygments_lexer": "ipython3",
   "version": "3.5.2"
  }
 },
 "nbformat": 4,
 "nbformat_minor": 2
}
