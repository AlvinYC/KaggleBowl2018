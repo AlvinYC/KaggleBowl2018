{
 "cells": [
  {
   "cell_type": "code",
   "execution_count": 6,
   "metadata": {
    "collapsed": true
   },
   "outputs": [],
   "source": [
    "import os\n",
    "\n",
    "from pathlib import Path\n",
    "from PIL import Image"
   ]
  },
  {
   "cell_type": "code",
   "execution_count": 10,
   "metadata": {},
   "outputs": [
    {
     "name": "stdout",
     "output_type": "stream",
     "text": [
      "TCGA-E2-A14V-01Z-00-DX1_500x500_0,500,500,81\n",
      "TCGA-E2-A14V-01Z-00-DX1_500x500_1,500,500,136\n",
      "TCGA-E2-A14V-01Z-00-DX1_500x500_2,500,500,58\n",
      "TCGA-E2-A14V-01Z-00-DX1_500x500_3,500,500,120\n"
     ]
    }
   ],
   "source": [
    "DATASET_DIR = Path('../orig_data/external_TCGA_train_sub/')\n",
    "DATASET_DIR_LIST = sorted(list(DATASET_DIR.glob('*')))\n",
    "f1=open('./output.csv', 'w+')\n",
    "\n",
    "text = ''\n",
    "for data_dir in DATASET_DIR_LIST:\n",
    "    if not os.path.isdir(str(data_dir)): continue\n",
    "    img_name = str(data_dir.stem) + '.png'\n",
    "    img_dir = data_dir / 'images' / img_name\n",
    "    im = Image.open(img_dir)\n",
    "    \n",
    "    mask_dir = data_dir / 'masks'\n",
    "    mask_dir_list = list(mask_dir.glob('*.png'))\n",
    "\n",
    "    text += str(data_dir.stem) + ',' + str(im.width) + ',' + str(im.height) + ','\n",
    "    text += str(len(mask_dir_list)) + ',\\n' \n",
    "\n",
    "    print(data_dir.stem + ',' + str(im.width) + ',' + str(im.height) + ',' + str(len(mask_dir_list)))\n",
    "f1.write(text)\n",
    "f1.close()\n"
   ]
  },
  {
   "cell_type": "code",
   "execution_count": null,
   "metadata": {
    "collapsed": true
   },
   "outputs": [],
   "source": []
  }
 ],
 "metadata": {
  "kernelspec": {
   "display_name": "Python 3",
   "language": "python",
   "name": "python3"
  },
  "language_info": {
   "codemirror_mode": {
    "name": "ipython",
    "version": 3
   },
   "file_extension": ".py",
   "mimetype": "text/x-python",
   "name": "python",
   "nbconvert_exporter": "python",
   "pygments_lexer": "ipython3",
   "version": "3.5.2"
  }
 },
 "nbformat": 4,
 "nbformat_minor": 2
}
