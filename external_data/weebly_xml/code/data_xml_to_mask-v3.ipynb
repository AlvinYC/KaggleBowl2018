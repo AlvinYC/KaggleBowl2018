{
 "cells": [
  {
   "cell_type": "code",
   "execution_count": 1,
   "metadata": {
    "collapsed": true
   },
   "outputs": [],
   "source": [
    "# webstie https://nucleisegmentationbenchmark.weebly.com\n",
    "# paper   https://drive.google.com/file/d/0ByERBiBsEbuTOEJISEpwSkR0SlE/view\n",
    "import os\n",
    "import re\n",
    "import PIL\n",
    "import time\n",
    "import random\n",
    "import shutil\n",
    "import itertools\n",
    "import collections\n",
    "import numpy as np\n",
    "import cv2 as cv\n",
    "import matplotlib.pyplot as plt\n",
    "from xml.dom import minidom\n",
    "from PIL import Image\n"
   ]
  },
  {
   "cell_type": "code",
   "execution_count": 2,
   "metadata": {},
   "outputs": [
    {
     "name": "stdout",
     "output_type": "stream",
     "text": [
      "train_ids = 30\n",
      "xml_ids = 30\n"
     ]
    }
   ],
   "source": [
    "TRAIN_PATH = '../orig_data/Tissue images_png/'\n",
    "XML_PATH   = '../orig_data/Annotations/'\n",
    "OUT_PATH  = '../orig_data/external_TCGA_train_wo_overlap/'  # manual create\n",
    "OUT_PATH_sub  = '../orig_data/external_TCGA_train_sub/'  # manual create\n",
    "\n",
    "train_ids = next(os.walk(TRAIN_PATH))[2]\n",
    "xml_ids = next(os.walk(XML_PATH))[2]\n",
    "print('train_ids = ' + str(len(train_ids)) + '\\nxml_ids = ' + str(len(xml_ids)))\n",
    "IMG_HEIGHT = 1000\n",
    "IMG_WIDTH = 1000\n",
    "IMG_CHANNELS = 1\n",
    "\n",
    "if not os.path.isdir(OUT_PATH):\n",
    "    os.mkdir(OUT_PATH) \n",
    "\n",
    "if not os.path.isdir(OUT_PATH_sub):\n",
    "    os.mkdir(OUT_PATH_sub) \n",
    "    "
   ]
  },
  {
   "cell_type": "code",
   "execution_count": 3,
   "metadata": {
    "collapsed": true
   },
   "outputs": [],
   "source": [
    "def fill_circle(mask_img,vertex_list):\n",
    "    # max x value for each y\n",
    "    max_right = {}     \n",
    "    for i in range(len(vertex_list)):\n",
    "        current_y = vertex_list[i][0]\n",
    "        current_x = vertex_list[i][1]\n",
    "        if current_y not in max_right:\n",
    "            max_right[current_y] = current_x \n",
    "        else:\n",
    "            max_right[current_y] = max(max_right[current_y],current_x)\n",
    "    \n",
    "    for i in range(len(vertex_list)):\n",
    "        current_y = vertex_list[i][0]\n",
    "        current_x = vertex_list[i][1]\n",
    "        mask_img[current_y,current_x:max_right[current_y]] = 255\n",
    "    \n",
    "    return mask_img"
   ]
  },
  {
   "cell_type": "code",
   "execution_count": 4,
   "metadata": {
    "collapsed": true
   },
   "outputs": [],
   "source": [
    "def check_valid_xy(y, x):\n",
    "    if x >= IMG_WIDTH: x = IMG_WIDTH-1\n",
    "    if y >= IMG_HEIGHT: y = IMG_HEIGHT-1                \n",
    "    if x <= 0: x = 0\n",
    "    if y <= 0: y = 0\n",
    "    return y,x"
   ]
  },
  {
   "cell_type": "code",
   "execution_count": 5,
   "metadata": {
    "collapsed": true
   },
   "outputs": [],
   "source": [
    "def generate_miss_node(y, x, py, px):\n",
    "    dist_x = int(x) - px\n",
    "    dist_y = int(y) - py\n",
    "    miss_node = []\n",
    "    if max(abs(dist_y),abs(dist_x)) >= 2 and py != IMG_HEIGHT and px != IMG_WIDTH:\n",
    "        a = int(x); b = px\n",
    "        newx = list(map(int,np.linspace(a,b, abs(b-a)+1).tolist()))\n",
    "        #print('newx => ' + str(newx))\n",
    "        if len(newx) >= 2: newx.pop(-1)\n",
    "        if len(newx) >= 2: newx.pop(0)\n",
    "        a = int(y); b = py\n",
    "        newy = list(map(int,np.linspace(a,b, abs(b-a)+1).tolist()))\n",
    "        #print('newy => ' + str(newy))\n",
    "        if len(newy) >= 2: newy.pop(-1)\n",
    "        if len(newy) >= 2: newy.pop(0)\n",
    "        miss_node = list(itertools.product(newy, newx))\n",
    "    #miss_node = []  # enable this line if you wanna disable this function\n",
    "    return miss_node"
   ]
  },
  {
   "cell_type": "code",
   "execution_count": 6,
   "metadata": {
    "collapsed": true
   },
   "outputs": [],
   "source": [
    "def regions2mask(Resions, xml_idx, mask_folder, region_info):\n",
    "    mask_contour = np.zeros((IMG_HEIGHT, IMG_WIDTH), dtype=np.uint8)\n",
    "    mask_solid   = np.zeros((IMG_HEIGHT, IMG_WIDTH), dtype=np.uint8)\n",
    "    \n",
    "    for region_idx in range(len(Regions)):\n",
    "        #print('region_idx ' + str(region_idx))\n",
    "        Region=Regions.item(region_idx)\n",
    "        verticies=Region.getElementsByTagName('Vertex');\n",
    "        Region_ID = Region.getAttribute('Id')\n",
    "        #print('Region_ID ==> ' + str(Region_ID))\n",
    "        single_mask = np.zeros((IMG_HEIGHT, IMG_WIDTH), dtype=np.uint8)    \n",
    "        vertix_list = []\n",
    "        px   = IMG_WIDTH\n",
    "        py   = IMG_HEIGHT        \n",
    "        max_yx = [0,0]\n",
    "        min_yx = [IMG_HEIGHT,IMG_WIDTH]\n",
    "        for vertexi in range(len(verticies)):\n",
    "            x=int(float(verticies.item(vertexi).getAttribute('X')))\n",
    "            y=int(float(verticies.item(vertexi).getAttribute('Y')))\n",
    "            y, x = check_valid_xy(y, x)\n",
    "\n",
    "            miss_node = generate_miss_node(y, x, py, px)\n",
    "            if miss_node != []:\n",
    "                #print(miss_node)\n",
    "                vertix_list.extend(miss_node)\n",
    "                for node_y, node_x in miss_node:\n",
    "                    mask_contour[node_y,node_x] = 255 \n",
    "                    single_mask[node_y,node_x] = 255 # signal mask\n",
    "            px = x\n",
    "            py = y\n",
    "            # fill mask contour\n",
    "            mask_contour[y, x] = 255 # all for one mask   \n",
    "            single_mask[y, x] = 255 # signal mask\n",
    "            vertix_list.append([y, x])\n",
    "            if y>max_yx[0]: max_yx[0] = y\n",
    "            if x>max_yx[1]: max_yx[1] = x\n",
    "            if y<min_yx[0]: min_yx[0] = y\n",
    "            if y<min_yx[1]: min_yx[1] = x\n",
    "        # consider relation between first node and last node\n",
    "        miss_node = generate_miss_node(vertix_list[0][0], vertix_list[0][1], vertix_list[-1][0],vertix_list[-1][1])\n",
    "        if miss_node != []:\n",
    "            #print(miss_node)\n",
    "            vertix_list.extend(miss_node)\n",
    "            for node_y, node_x in miss_node:\n",
    "                mask_contour[node_y,node_x] = 255 \n",
    "                single_mask[node_y,node_x] = 255 # signal mask\n",
    "        \n",
    "        # generate folder and file name\n",
    "        fname = re.sub('.*/|\\.xml','',xml_filenames[xml_idx])\n",
    "        single_mask_name = mask_folder + fname + '_' + '{:0>4}'.format(str(Region_ID)) + '.png'\n",
    "        #print(single_mask_name)\n",
    "\n",
    "        # fill mask circle w/ solid and generate png \n",
    "        mask_solid_ = fill_circle(single_mask,vertix_list )\n",
    "        newImg1= Image.fromarray(mask_solid_,'L')\n",
    "        newImg1.save(single_mask_name,\"PNG\")\n",
    "        # merge all single solid-circle to one\n",
    "        #mask_solid = np.maximum(mask_solid, mask_solid_)\n",
    "        \n",
    "        # build information for region optimization\n",
    "        region_data = {}\n",
    "        region_data['region_idx'] = region_idx\n",
    "        region_data['Region_ID'] = Region_ID\n",
    "        region_data['max_yx'] = max_yx\n",
    "        region_data['min_yx'] = min_yx\n",
    "        region_data['center_yx'] = [int((max_yx[0]+min_yx[0])/2), int((max_yx[1]+min_yx[1])/2)]\n",
    "        region_data['area_size'] = np.count_nonzero(mask_solid_)\n",
    "        region_data['file_name'] = single_mask_name     \n",
    "        region_info.append(region_data)\n",
    "\n",
    "        #return mask_stack"
   ]
  },
  {
   "cell_type": "code",
   "execution_count": 7,
   "metadata": {
    "collapsed": true
   },
   "outputs": [],
   "source": [
    "def generate_folder(fname, out_dir):\n",
    "    FILE_folder = out_dir + fname + '/'\n",
    "    MASK_folder = FILE_folder + 'masks/'\n",
    "    IMG_folder = FILE_folder + 'images/'\n",
    "    if not os.path.isdir(FILE_folder):\n",
    "        os.mkdir(FILE_folder)\n",
    "    if not os.path.isdir(MASK_folder):\n",
    "        os.mkdir(MASK_folder)\n",
    "    if not os.path.isdir(IMG_folder):\n",
    "        os.mkdir(IMG_folder)\n",
    "\n",
    "    return MASK_folder, IMG_folder\n",
    "    "
   ]
  },
  {
   "cell_type": "code",
   "execution_count": 8,
   "metadata": {
    "collapsed": true
   },
   "outputs": [],
   "source": [
    "def Euclidian(list1,list2):\n",
    "    dist = np.sqrt(np.sum(np.square(np.array(list1) - np.array(list2)))) \n",
    "    return dist\n",
    "\n",
    "def mask_optimization(region_info):\n",
    "    accept_dist = 100 #px\n",
    "    for i in range(len(region_info)):\n",
    "        area_size = region_info[i]['area_size']\n",
    "        center_yx = region_info[i]['center_yx']\n",
    "        mask_file = region_info[i]['file_name']\n",
    "        collect_dist_limitation = lambda element: 0 < Euclidian(element['center_yx'],center_yx) < accept_dist\n",
    "        list_candidate = list(filter(collect_dist_limitation, region_info))        \n",
    "    \n",
    "        mask_current = np.array(Image.open(mask_file))\n",
    "        for j in range(len(list_candidate)):\n",
    "            mask_file_sel = list_candidate[j]['file_name']\n",
    "            mask_select = np.array(Image.open(mask_file_sel))\n",
    "            #check overlape\n",
    "            overlap_part = mask_current & mask_select\n",
    "            if np.count_nonzero(overlap_part) > 0:\n",
    "                if area_size < list_candidate[j]['area_size'] :\n",
    "                    # overlap part belong to region_info[i], pruning candidate area\n",
    "                    mask_select[overlap_part.nonzero()] = 0\n",
    "                    # update idx in region_info\n",
    "                    idx = list_candidate[j]['region_idx']\n",
    "                    region_info[idx]['area_size'] = np.count_nonzero(mask_select)\n",
    "                    updateImg= Image.fromarray(mask_select,'L')\n",
    "                    updateImg.save(region_info[idx]['file_name'],\"PNG\")               \n",
    "                else:\n",
    "                    # overlap part belong to candidate, pruning region_info[i]\n",
    "                    mask_current[overlap_part.nonzero()] = 0\n",
    "                    # update region_info[i] and write back\n",
    "                    region_info[i]['area_size'] = np.count_nonzero(mask_current)\n",
    "                    updateImg= Image.fromarray(mask_current,'L')\n",
    "                    updateImg.save(region_info[i]['file_name'],\"PNG\")             "
   ]
  },
  {
   "cell_type": "code",
   "execution_count": 9,
   "metadata": {
    "collapsed": true
   },
   "outputs": [],
   "source": [
    "def slice_to_submap(xml_idx,region_info, sub_region_info):\n",
    "    sub_width = 500\n",
    "    sub_height = 500\n",
    "    slice_row= int(IMG_HEIGHT/sub_height)\n",
    "    slice_col =  int(IMG_WIDTH/sub_width)\n",
    "    slice_num = slice_row * slice_col\n",
    "\n",
    "    fname  = re.sub('.*/|\\.xml','',xml_filenames[xml_idx])\n",
    "    img_all = np.array(Image.open(TRAIN_PATH+fname+'.png'))\n",
    "    for slice_idx in range(slice_num):\n",
    "        fname  = re.sub('.*/|\\.xml','',xml_filenames[xml_idx])\n",
    "        fname += '_'+str(sub_height)+'x'+str(sub_width)+'_'+str(slice_idx)\n",
    "        print(fname)\n",
    "        MASK_folder, IMG_folder = generate_folder(fname, OUT_PATH_sub)\n",
    "        # folder images\n",
    "        row_idx = slice_idx // slice_col\n",
    "        col_idx = slice_idx if slice_idx+1 < slice_col else slice_idx - row_idx*slice_col\n",
    "        y1= row_idx*sub_height\n",
    "        y2= row_idx*sub_height + sub_height\n",
    "        x1= col_idx*sub_width\n",
    "        x2= col_idx*sub_width + sub_width\n",
    "        img_sub = img_all[y1:y2,x1:x2,:]\n",
    "        subImg= Image.fromarray(img_sub)\n",
    "        subImg.save(IMG_folder+fname+'.png',\"PNG\") \n",
    "        # folder masks\n",
    "        for idx in range(len(region_info)):\n",
    "            # get all mask file for this image and retrive slice part only\n",
    "            fname = region_info[idx]['file_name']\n",
    "            mask_img = np.array(Image.open(fname))\n",
    "            mask_img_sub = mask_img[y1:y2,x1:x2]\n",
    "            # output slice part as indivitual mask file\n",
    "            if np.count_nonzero(mask_img_sub) != 0:\n",
    "                subImg= Image.fromarray(mask_img_sub)\n",
    "                outfname  = re.sub('.*/|\\.png','',fname)\n",
    "                outfname += '_'+str(sub_height)+'x'+str(sub_width)+'_'+ str(slice_idx)\n",
    "                subImg.save(MASK_folder+outfname+'.png',\"PNG\")  \n"
   ]
  },
  {
   "cell_type": "code",
   "execution_count": 10,
   "metadata": {},
   "outputs": [
    {
     "name": "stdout",
     "output_type": "stream",
     "text": [
      "../orig_data/Annotations/TCGA-E2-A14V-01Z-00-DX1.xml\n"
     ]
    }
   ],
   "source": [
    "#img_filenames = [TRAIN_PATH + f for f in train_ids]\n",
    "xml_filenames = [XML_PATH + f for f in xml_ids]\n",
    "#print(img_filenames[0])\n",
    "print(xml_filenames[0])"
   ]
  },
  {
   "cell_type": "code",
   "execution_count": 11,
   "metadata": {
    "scrolled": false
   },
   "outputs": [
    {
     "name": "stdout",
     "output_type": "stream",
     "text": [
      "../orig_data/Annotations/TCGA-E2-A14V-01Z-00-DX1.xml\t378\n",
      "TCGA-E2-A14V-01Z-00-DX1_500x500_0\n",
      "TCGA-E2-A14V-01Z-00-DX1_500x500_1\n",
      "TCGA-E2-A14V-01Z-00-DX1_500x500_2\n",
      "TCGA-E2-A14V-01Z-00-DX1_500x500_3\n",
      "../orig_data/Annotations/TCGA-B0-5711-01Z-00-DX1.xml\t342\n",
      "TCGA-B0-5711-01Z-00-DX1_500x500_0\n",
      "TCGA-B0-5711-01Z-00-DX1_500x500_1\n",
      "TCGA-B0-5711-01Z-00-DX1_500x500_2\n",
      "TCGA-B0-5711-01Z-00-DX1_500x500_3\n",
      "../orig_data/Annotations/TCGA-B0-5698-01Z-00-DX1.xml\t357\n",
      "TCGA-B0-5698-01Z-00-DX1_500x500_0\n",
      "TCGA-B0-5698-01Z-00-DX1_500x500_1\n",
      "TCGA-B0-5698-01Z-00-DX1_500x500_2\n",
      "TCGA-B0-5698-01Z-00-DX1_500x500_3\n",
      "../orig_data/Annotations/TCGA-38-6178-01Z-00-DX1.xml\t424\n",
      "TCGA-38-6178-01Z-00-DX1_500x500_0\n",
      "TCGA-38-6178-01Z-00-DX1_500x500_1\n",
      "TCGA-38-6178-01Z-00-DX1_500x500_2\n",
      "TCGA-38-6178-01Z-00-DX1_500x500_3\n",
      "../orig_data/Annotations/TCGA-18-5592-01Z-00-DX1.xml\t480\n",
      "TCGA-18-5592-01Z-00-DX1_500x500_0\n",
      "TCGA-18-5592-01Z-00-DX1_500x500_1\n",
      "TCGA-18-5592-01Z-00-DX1_500x500_2\n",
      "TCGA-18-5592-01Z-00-DX1_500x500_3\n",
      "../orig_data/Annotations/TCGA-G9-6356-01Z-00-DX1.xml\t442\n",
      "TCGA-G9-6356-01Z-00-DX1_500x500_0\n",
      "TCGA-G9-6356-01Z-00-DX1_500x500_1\n",
      "TCGA-G9-6356-01Z-00-DX1_500x500_2\n",
      "TCGA-G9-6356-01Z-00-DX1_500x500_3\n",
      "../orig_data/Annotations/TCGA-G2-A2EK-01A-02-TSB.xml\t401\n",
      "TCGA-G2-A2EK-01A-02-TSB_500x500_0\n",
      "TCGA-G2-A2EK-01A-02-TSB_500x500_1\n",
      "TCGA-G2-A2EK-01A-02-TSB_500x500_2\n",
      "TCGA-G2-A2EK-01A-02-TSB_500x500_3\n",
      "../orig_data/Annotations/TCGA-B0-5710-01Z-00-DX1.xml\t359\n",
      "TCGA-B0-5710-01Z-00-DX1_500x500_0\n",
      "TCGA-B0-5710-01Z-00-DX1_500x500_1\n",
      "TCGA-B0-5710-01Z-00-DX1_500x500_2\n",
      "TCGA-B0-5710-01Z-00-DX1_500x500_3\n",
      "../orig_data/Annotations/TCGA-21-5784-01Z-00-DX1.xml\t398\n",
      "TCGA-21-5784-01Z-00-DX1_500x500_0\n",
      "TCGA-21-5784-01Z-00-DX1_500x500_1\n",
      "TCGA-21-5784-01Z-00-DX1_500x500_2\n",
      "TCGA-21-5784-01Z-00-DX1_500x500_3\n",
      "../orig_data/Annotations/TCGA-AR-A1AS-01Z-00-DX1.xml\t405\n",
      "TCGA-AR-A1AS-01Z-00-DX1_500x500_0\n",
      "TCGA-AR-A1AS-01Z-00-DX1_500x500_1\n",
      "TCGA-AR-A1AS-01Z-00-DX1_500x500_2\n",
      "TCGA-AR-A1AS-01Z-00-DX1_500x500_3\n",
      "../orig_data/Annotations/TCGA-RD-A8N9-01A-01-TS1.xml\t1165\n",
      "TCGA-RD-A8N9-01A-01-TS1_500x500_0\n",
      "TCGA-RD-A8N9-01A-01-TS1_500x500_1\n",
      "TCGA-RD-A8N9-01A-01-TS1_500x500_2\n",
      "TCGA-RD-A8N9-01A-01-TS1_500x500_3\n",
      "../orig_data/Annotations/TCGA-CH-5767-01Z-00-DX1.xml\t294\n",
      "TCGA-CH-5767-01Z-00-DX1_500x500_0\n",
      "TCGA-CH-5767-01Z-00-DX1_500x500_1\n",
      "TCGA-CH-5767-01Z-00-DX1_500x500_2\n",
      "TCGA-CH-5767-01Z-00-DX1_500x500_3\n",
      "../orig_data/Annotations/TCGA-A7-A13F-01Z-00-DX1.xml\t356\n",
      "TCGA-A7-A13F-01Z-00-DX1_500x500_0\n",
      "TCGA-A7-A13F-01Z-00-DX1_500x500_1\n",
      "TCGA-A7-A13F-01Z-00-DX1_500x500_2\n",
      "TCGA-A7-A13F-01Z-00-DX1_500x500_3\n",
      "../orig_data/Annotations/TCGA-G9-6363-01Z-00-DX1.xml\t354\n",
      "TCGA-G9-6363-01Z-00-DX1_500x500_0\n",
      "TCGA-G9-6363-01Z-00-DX1_500x500_1\n",
      "TCGA-G9-6363-01Z-00-DX1_500x500_2\n",
      "TCGA-G9-6363-01Z-00-DX1_500x500_3\n",
      "../orig_data/Annotations/TCGA-G9-6348-01Z-00-DX1.xml\t390\n",
      "TCGA-G9-6348-01Z-00-DX1_500x500_0\n",
      "TCGA-G9-6348-01Z-00-DX1_500x500_1\n",
      "TCGA-G9-6348-01Z-00-DX1_500x500_2\n",
      "TCGA-G9-6348-01Z-00-DX1_500x500_3\n",
      "../orig_data/Annotations/TCGA-21-5786-01Z-00-DX1.xml\t440\n",
      "TCGA-21-5786-01Z-00-DX1_500x500_0\n",
      "TCGA-21-5786-01Z-00-DX1_500x500_1\n",
      "TCGA-21-5786-01Z-00-DX1_500x500_2\n",
      "TCGA-21-5786-01Z-00-DX1_500x500_3\n",
      "../orig_data/Annotations/TCGA-AY-A8YK-01A-01-TS1.xml\t363\n",
      "TCGA-AY-A8YK-01A-01-TS1_500x500_0\n",
      "TCGA-AY-A8YK-01A-01-TS1_500x500_1\n",
      "TCGA-AY-A8YK-01A-01-TS1_500x500_2\n",
      "TCGA-AY-A8YK-01A-01-TS1_500x500_3\n",
      "../orig_data/Annotations/TCGA-50-5931-01Z-00-DX1.xml\t445\n",
      "TCGA-50-5931-01Z-00-DX1_500x500_0\n",
      "TCGA-50-5931-01Z-00-DX1_500x500_1\n",
      "TCGA-50-5931-01Z-00-DX1_500x500_2\n",
      "TCGA-50-5931-01Z-00-DX1_500x500_3\n",
      "../orig_data/Annotations/TCGA-KB-A93J-01A-01-TS1.xml\t1391\n",
      "TCGA-KB-A93J-01A-01-TS1_500x500_0\n",
      "TCGA-KB-A93J-01A-01-TS1_500x500_1\n",
      "TCGA-KB-A93J-01A-01-TS1_500x500_2\n",
      "TCGA-KB-A93J-01A-01-TS1_500x500_3\n",
      "../orig_data/Annotations/TCGA-G9-6362-01Z-00-DX1.xml\t472\n",
      "TCGA-G9-6362-01Z-00-DX1_500x500_0\n",
      "TCGA-G9-6362-01Z-00-DX1_500x500_1\n",
      "TCGA-G9-6362-01Z-00-DX1_500x500_2\n",
      "TCGA-G9-6362-01Z-00-DX1_500x500_3\n",
      "../orig_data/Annotations/TCGA-49-4488-01Z-00-DX1.xml\t557\n",
      "TCGA-49-4488-01Z-00-DX1_500x500_0\n",
      "TCGA-49-4488-01Z-00-DX1_500x500_1\n",
      "TCGA-49-4488-01Z-00-DX1_500x500_2\n",
      "TCGA-49-4488-01Z-00-DX1_500x500_3\n",
      "../orig_data/Annotations/TCGA-A7-A13E-01Z-00-DX1.xml\t314\n",
      "TCGA-A7-A13E-01Z-00-DX1_500x500_0\n",
      "TCGA-A7-A13E-01Z-00-DX1_500x500_1\n",
      "TCGA-A7-A13E-01Z-00-DX1_500x500_2\n",
      "TCGA-A7-A13E-01Z-00-DX1_500x500_3\n",
      "../orig_data/Annotations/TCGA-HE-7128-01Z-00-DX1.xml\t1076\n",
      "TCGA-HE-7128-01Z-00-DX1_500x500_0\n",
      "TCGA-HE-7128-01Z-00-DX1_500x500_1\n",
      "TCGA-HE-7128-01Z-00-DX1_500x500_2\n",
      "TCGA-HE-7128-01Z-00-DX1_500x500_3\n",
      "../orig_data/Annotations/TCGA-E2-A1B5-01Z-00-DX1.xml\t329\n",
      "TCGA-E2-A1B5-01Z-00-DX1_500x500_0\n",
      "TCGA-E2-A1B5-01Z-00-DX1_500x500_1\n",
      "TCGA-E2-A1B5-01Z-00-DX1_500x500_2\n",
      "TCGA-E2-A1B5-01Z-00-DX1_500x500_3\n",
      "../orig_data/Annotations/TCGA-NH-A8F7-01A-01-TS1.xml\t363\n",
      "TCGA-NH-A8F7-01A-01-TS1_500x500_0\n",
      "TCGA-NH-A8F7-01A-01-TS1_500x500_1\n",
      "TCGA-NH-A8F7-01A-01-TS1_500x500_2\n",
      "TCGA-NH-A8F7-01A-01-TS1_500x500_3\n",
      "../orig_data/Annotations/TCGA-AR-A1AK-01Z-00-DX1.xml\t433\n",
      "TCGA-AR-A1AK-01Z-00-DX1_500x500_0\n",
      "TCGA-AR-A1AK-01Z-00-DX1_500x500_1\n",
      "TCGA-AR-A1AK-01Z-00-DX1_500x500_2\n",
      "TCGA-AR-A1AK-01Z-00-DX1_500x500_3\n",
      "../orig_data/Annotations/TCGA-HE-7130-01Z-00-DX1.xml\t1863\n",
      "TCGA-HE-7130-01Z-00-DX1_500x500_0\n",
      "TCGA-HE-7130-01Z-00-DX1_500x500_1\n",
      "TCGA-HE-7130-01Z-00-DX1_500x500_2\n",
      "TCGA-HE-7130-01Z-00-DX1_500x500_3\n",
      "../orig_data/Annotations/TCGA-G9-6336-01Z-00-DX1.xml\t448\n",
      "TCGA-G9-6336-01Z-00-DX1_500x500_0\n",
      "TCGA-G9-6336-01Z-00-DX1_500x500_1\n",
      "TCGA-G9-6336-01Z-00-DX1_500x500_2\n",
      "TCGA-G9-6336-01Z-00-DX1_500x500_3\n",
      "../orig_data/Annotations/TCGA-DK-A2I6-01A-01-TS1.xml\t342\n",
      "TCGA-DK-A2I6-01A-01-TS1_500x500_0\n",
      "TCGA-DK-A2I6-01A-01-TS1_500x500_1\n",
      "TCGA-DK-A2I6-01A-01-TS1_500x500_2\n",
      "TCGA-DK-A2I6-01A-01-TS1_500x500_3\n",
      "../orig_data/Annotations/TCGA-HE-7129-01Z-00-DX1.xml\t1585\n",
      "TCGA-HE-7129-01Z-00-DX1_500x500_0\n",
      "TCGA-HE-7129-01Z-00-DX1_500x500_1\n",
      "TCGA-HE-7129-01Z-00-DX1_500x500_2\n",
      "TCGA-HE-7129-01Z-00-DX1_500x500_3\n",
      "\n",
      "total region count is 16966\n",
      "--- 1819.6500232219696 seconds ---\n"
     ]
    }
   ],
   "source": [
    "start_time = time.time()\n",
    "region_count = 0\n",
    "\n",
    "for xml_idx in range(len(xml_filenames)):\n",
    "    fname = re.sub('.*/|\\.xml','',xml_filenames[xml_idx])\n",
    "    # generate ncecssary folder \n",
    "    MASK_folder, IMG_folder = generate_folder(fname, OUT_PATH)\n",
    "    # move original png to indivitual folder\n",
    "    shutil.copy(TRAIN_PATH+fname+'.png',IMG_folder)\n",
    "    # parsing xml and generate label picture for each region\n",
    "    root = minidom.parse(xml_filenames[xml_idx])\n",
    "    Regions=root.getElementsByTagName('Region');\n",
    "    print(xml_filenames[xml_idx] + '\\t' + str(len(Regions)))\n",
    "    # get indivutual cel info to region_info\n",
    "    region_info = []\n",
    "    regions2mask(Regions, xml_idx, MASK_folder, region_info)\n",
    "    # re-arrangement area size according if there is overlap part\n",
    "    mask_optimization(region_info)\n",
    "    #=============================================================\n",
    "    # slice picture to 500x500\n",
    "    #=============================================================\n",
    "    sub_region_info = []\n",
    "    slice_to_submap(xml_idx,region_info, sub_region_info)\n",
    "    region_count += len(Regions)\n",
    "\n",
    "print(\"\\ntotal region count is \" + str(region_count))\n",
    "print(\"--- %s seconds ---\" % (time.time() - start_time))    "
   ]
  },
  {
   "cell_type": "markdown",
   "metadata": {
    "collapsed": true
   },
   "source": [
    "# the following ipython cell are testing code"
   ]
  },
  {
   "cell_type": "code",
   "execution_count": null,
   "metadata": {
    "collapsed": true
   },
   "outputs": [],
   "source": [
    "from skimage.io import imread, imshow\n",
    "%matplotlib inline\n",
    "plt.figure(figsize=(10, 10))\n",
    "ax = plt.subplot(1,1,1)\n",
    "disp_width = 500\n",
    "mask_show = np.array(Image.open(region_info[0]['file_name']))[0:disp_width,0:disp_width]\n",
    "ax.imshow(mask_show,alpha=0.5)\n",
    "mask_sel   = np.array(Image.open(list_candidate[0]['file_name']))[0:disp_width,0:disp_width]\n",
    "ax.imshow(mask_sel,alpha=0.5)\n",
    "mask_sel   = np.array(Image.open(list_candidate[1]['file_name']))[0:disp_width,0:disp_width]\n",
    "ax.imshow(mask_sel,alpha=0.5)\n",
    "mask_sel   = np.array(Image.open(list_candidate[2]['file_name']))[0:disp_width,0:disp_width]\n",
    "ax.imshow(mask_sel,alpha=0.5)\n",
    "mask_sel   = np.array(Image.open(list_candidate[3]['file_name']))[0:disp_width,0:disp_width]\n",
    "ax.imshow(mask_sel,alpha=0.5)\n",
    "plt.show"
   ]
  },
  {
   "cell_type": "code",
   "execution_count": null,
   "metadata": {
    "collapsed": true
   },
   "outputs": [],
   "source": [
    "mask_current = np.array(Image.open(mask_file))"
   ]
  },
  {
   "cell_type": "code",
   "execution_count": null,
   "metadata": {
    "collapsed": true
   },
   "outputs": [],
   "source": [
    "mask_select"
   ]
  },
  {
   "cell_type": "code",
   "execution_count": null,
   "metadata": {
    "collapsed": true
   },
   "outputs": [],
   "source": [
    "over1 = mask_current & mask_select"
   ]
  },
  {
   "cell_type": "code",
   "execution_count": null,
   "metadata": {
    "collapsed": true
   },
   "outputs": [],
   "source": [
    "gg = mask_show[180:190,50:60]\n",
    "gg[gg.nonzero()]=99\n",
    "gg"
   ]
  },
  {
   "cell_type": "code",
   "execution_count": null,
   "metadata": {},
   "outputs": [],
   "source": [
    "xml_filenames"
   ]
  },
  {
   "cell_type": "code",
   "execution_count": null,
   "metadata": {},
   "outputs": [],
   "source": [
    "xml_idx = 3\n",
    "fname = re.sub('.*/|\\.xml','',xml_filenames[xml_idx])\n",
    "print(xml_filenames[xml_idx])\n",
    "MASK_folder, IMG_folder = generate_folder(fname,OUT_PATH)\n",
    "root = minidom.parse(xml_filenames[xml_idx])\n",
    "Regions=root.getElementsByTagName('Region');\n",
    "region_info = []\n",
    "regions2mask(Regions, xml_idx, MASK_folder, region_info)\n",
    "\n",
    "accept_dist = 100 #px\n",
    "i = 0\n",
    "area_size = region_info[i]['area_size']\n",
    "center_yx = region_info[i]['center_yx']\n",
    "mask_file = region_info[i]['file_name']\n",
    "collect_dist_limitation = lambda element: 0 < Euclidian(element['center_yx'],center_yx) < accept_dist\n",
    "list_candidate = list(filter(collect_dist_limitation, region_info)) "
   ]
  },
  {
   "cell_type": "code",
   "execution_count": null,
   "metadata": {},
   "outputs": [],
   "source": [
    "from skimage.io import imread, imshow\n",
    "%matplotlib inline\n",
    "plt.figure(figsize=(10, 10))\n",
    "ax = plt.subplot(1,1,1)\n",
    "disp_width = 500\n",
    "mask_show = np.array(Image.open(region_info[i]['file_name']))[0:disp_width,0:disp_width]\n",
    "for j in range(len(list_candidate)):\n",
    "    mask_sel = np.array(Image.open(list_candidate[j]['file_name']))[0:disp_width,0:disp_width]\n",
    "    overlap = mask_sel & mask_show\n",
    "    mask_show[overlap.nonzero()] = 150\n",
    "    mask_sel[overlap.nonzero()] = 0\n",
    "    mask_show = mask_show | mask_sel\n",
    "ax.imshow(mask_show)\n",
    "plt.show"
   ]
  },
  {
   "cell_type": "code",
   "execution_count": null,
   "metadata": {},
   "outputs": [],
   "source": [
    "from skimage.io import imread, imshow\n",
    "%matplotlib inline\n",
    "plt.figure(figsize=(10, 10))\n",
    "ax = plt.subplot(1,1,1)\n",
    "\n",
    "mask_sel1 = np.array(Image.open(list_candidate[1]['file_name']))[215:260,0:20]\n",
    "mask_sel2 = np.array(Image.open(list_candidate[2]['file_name']))[215:260,0:20]\n",
    "overlap = mask_sel1 & mask_sel2\n",
    "mask_show = mask_sel1 | mask_sel2\n",
    "mask_show[overlap.nonzero()] = 150\n",
    "ax.imshow(mask_show,cmap='gray')\n",
    "plt.show\n"
   ]
  },
  {
   "cell_type": "code",
   "execution_count": null,
   "metadata": {},
   "outputs": [],
   "source": [
    "import pandas as pd\n",
    "g1 = pd.DataFrame(overlap)\n",
    "g1\n"
   ]
  },
  {
   "cell_type": "code",
   "execution_count": null,
   "metadata": {},
   "outputs": [],
   "source": [
    "sn = 16\n",
    "col_num=2\n",
    "for i in range(sn):\n",
    "    #print(str(i+1) + '\\t' + str(sn//4))\n",
    "    row_idx = i // col_num\n",
    "    if i+1 < col_num:\n",
    "        col_idx = i\n",
    "    else:\n",
    "        col_idx = i - row_idx*col_num\n",
    "    print('i ==> row_idx '+str(row_idx)+', col_idx '+str(col_idx))\n",
    "    "
   ]
  }
 ],
 "metadata": {
  "kernelspec": {
   "display_name": "Python 3",
   "language": "python",
   "name": "python3"
  },
  "language_info": {
   "codemirror_mode": {
    "name": "ipython",
    "version": 3
   },
   "file_extension": ".py",
   "mimetype": "text/x-python",
   "name": "python",
   "nbconvert_exporter": "python",
   "pygments_lexer": "ipython3",
   "version": "3.5.2"
  }
 },
 "nbformat": 4,
 "nbformat_minor": 2
}
