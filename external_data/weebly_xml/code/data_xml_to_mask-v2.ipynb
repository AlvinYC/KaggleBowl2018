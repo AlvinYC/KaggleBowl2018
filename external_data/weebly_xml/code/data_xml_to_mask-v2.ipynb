{
 "cells": [
  {
   "cell_type": "code",
   "execution_count": 1,
   "metadata": {},
   "outputs": [],
   "source": [
    "# webstie https://nucleisegmentationbenchmark.weebly.com\n",
    "# paper   https://drive.google.com/file/d/0ByERBiBsEbuTOEJISEpwSkR0SlE/view\n",
    "import os\n",
    "import re\n",
    "import PIL\n",
    "import time\n",
    "import random\n",
    "import shutil\n",
    "import itertools\n",
    "import collections\n",
    "import numpy as np\n",
    "import cv2 as cv\n",
    "import matplotlib.pyplot as plt\n",
    "from xml.dom import minidom\n",
    "from PIL import Image\n"
   ]
  },
  {
   "cell_type": "code",
   "execution_count": 2,
   "metadata": {},
   "outputs": [
    {
     "name": "stdout",
     "output_type": "stream",
     "text": [
      "train_ids = 30\n",
      "xml_ids = 30\n"
     ]
    }
   ],
   "source": [
    "TRAIN_PATH = '../orig_data/Tissue images_png/'\n",
    "XML_PATH   = '../orig_data/Annotations/'\n",
    "OUT_PATH  = '../orig_data/external_TCGA_train/'  # manual create\n",
    "#MASK_PATH  = OUT_PATH + '/masks'\n",
    "#IMG_PATH = OUT_PATH + '/images'\n",
    "\n",
    "train_ids = next(os.walk(TRAIN_PATH))[2]\n",
    "xml_ids = next(os.walk(XML_PATH))[2]\n",
    "print('train_ids = ' + str(len(train_ids)) + '\\nxml_ids = ' + str(len(xml_ids)))\n",
    "IMG_HEIGHT = 1000\n",
    "IMG_WIDTH = 1000\n",
    "IMG_CHANNELS = 1\n",
    "\n",
    "if not os.path.isdir(OUT_PATH):\n",
    "    os.mkdir(OUT_PATH) \n"
   ]
  },
  {
   "cell_type": "code",
   "execution_count": 3,
   "metadata": {},
   "outputs": [],
   "source": [
    "def fill_circle(mask_img,vertex_list):\n",
    "    # max x value for each y\n",
    "    max_right = {}     \n",
    "    for i in range(len(vertex_list)):\n",
    "        current_y = vertex_list[i][0]\n",
    "        current_x = vertex_list[i][1]\n",
    "        if current_y not in max_right:\n",
    "            max_right[current_y] = current_x \n",
    "        else:\n",
    "            max_right[current_y] = max(max_right[current_y],current_x)\n",
    "    \n",
    "    for i in range(len(vertex_list)):\n",
    "        current_y = vertex_list[i][0]\n",
    "        current_x = vertex_list[i][1]\n",
    "        mask_img[current_y,current_x:max_right[current_y]] = 255\n",
    "    \n",
    "    return mask_img"
   ]
  },
  {
   "cell_type": "code",
   "execution_count": 4,
   "metadata": {},
   "outputs": [],
   "source": [
    "def check_valid_xy(y, x):\n",
    "    if x >= IMG_WIDTH: x = IMG_WIDTH-1\n",
    "    if y >= IMG_HEIGHT: y = IMG_HEIGHT-1                \n",
    "    if x <= 0: x = 0\n",
    "    if y <= 0: y = 0\n",
    "    return y,x"
   ]
  },
  {
   "cell_type": "code",
   "execution_count": 5,
   "metadata": {},
   "outputs": [],
   "source": [
    "def generate_miss_node(y, x, py, px):\n",
    "    dist_x = int(x) - px\n",
    "    dist_y = int(y) - py\n",
    "    miss_node = []\n",
    "    if max(abs(dist_y),abs(dist_x)) >= 2 and py != IMG_HEIGHT and px != IMG_WIDTH:\n",
    "        a = int(x); b = px\n",
    "        newx = list(map(int,np.linspace(a,b, abs(b-a)+1).tolist()))\n",
    "        #print('newx => ' + str(newx))\n",
    "        if len(newx) >= 2: newx.pop(-1)\n",
    "        if len(newx) >= 2: newx.pop(0)\n",
    "        a = int(y); b = py\n",
    "        newy = list(map(int,np.linspace(a,b, abs(b-a)+1).tolist()))\n",
    "        #print('newy => ' + str(newy))\n",
    "        if len(newy) >= 2: newy.pop(-1)\n",
    "        if len(newy) >= 2: newy.pop(0)\n",
    "        miss_node = list(itertools.product(newy, newx))\n",
    "    #miss_node = []  # enable this line if you wanna disable this function\n",
    "    return miss_node"
   ]
  },
  {
   "cell_type": "code",
   "execution_count": 6,
   "metadata": {},
   "outputs": [],
   "source": [
    "def regions2mask(Resions, xml_idx, mask_folder, region_info):\n",
    "    mask_contour = np.zeros((IMG_HEIGHT, IMG_WIDTH), dtype=np.uint8)\n",
    "    mask_solid   = np.zeros((IMG_HEIGHT, IMG_WIDTH), dtype=np.uint8)\n",
    "    \n",
    "    #pixel_mask_dict = {}\n",
    "    for region_idx in range(len(Regions)):\n",
    "        #print('region_idx ' + str(region_idx))\n",
    "        Region=Regions.item(region_idx)\n",
    "        verticies=Region.getElementsByTagName('Vertex');\n",
    "        Region_ID = Region.getAttribute('Id')\n",
    "        #print('Region_ID ==> ' + str(Region_ID))\n",
    "        single_mask = np.zeros((IMG_HEIGHT, IMG_WIDTH), dtype=np.uint8)    \n",
    "        vertix_list = []\n",
    "        px   = IMG_WIDTH\n",
    "        py   = IMG_HEIGHT        \n",
    "        max_yx = [0,0]\n",
    "        min_yx = [IMG_HEIGHT,IMG_WIDTH]\n",
    "        for vertexi in range(len(verticies)):\n",
    "            x=int(float(verticies.item(vertexi).getAttribute('X')))\n",
    "            y=int(float(verticies.item(vertexi).getAttribute('Y')))\n",
    "            y, x = check_valid_xy(y, x)\n",
    "\n",
    "            miss_node = generate_miss_node(y, x, py, px)\n",
    "            if miss_node != []:\n",
    "                #print(miss_node)\n",
    "                vertix_list.extend(miss_node)\n",
    "                for node_y, node_x in miss_node:\n",
    "                    mask_contour[node_y,node_x] = 255 \n",
    "                    single_mask[node_y,node_x] = 255 # signal mask\n",
    "            px = x\n",
    "            py = y\n",
    "            # fill mask contour\n",
    "            mask_contour[y, x] = 255 # all for one mask   \n",
    "            single_mask[y, x] = 255 # signal mask\n",
    "            vertix_list.append([y, x])\n",
    "            if y>max_yx[0]: max_yx[0] = y\n",
    "            if x>max_yx[1]: max_yx[1] = x\n",
    "            if y<min_yx[0]: min_yx[0] = y\n",
    "            if y<min_yx[1]: min_yx[1] = x\n",
    "        # consider relation between first node and last node\n",
    "        miss_node = generate_miss_node(vertix_list[0][0], vertix_list[0][1], vertix_list[-1][0],vertix_list[-1][1])\n",
    "        if miss_node != []:\n",
    "            #print(miss_node)\n",
    "            vertix_list.extend(miss_node)\n",
    "            for node_y, node_x in miss_node:\n",
    "                mask_contour[node_y,node_x] = 255 \n",
    "                single_mask[node_y,node_x] = 255 # signal mask\n",
    "        \n",
    "        # generate folder and file name\n",
    "        fname = re.sub('.*/|\\.xml','',xml_filenames[xml_idx])\n",
    "        single_mask_name = mask_folder + fname + '_' + '{:0>4}'.format(str(Region_ID)) + '.png'\n",
    "        #print(single_mask_name)\n",
    "\n",
    "        # fill mask circle w/ solid and generate png \n",
    "        mask_solid_ = fill_circle(single_mask,vertix_list )\n",
    "        newImg1= Image.fromarray(mask_solid_,'L')\n",
    "        newImg1.save(single_mask_name,\"PNG\")\n",
    "        # merge all single solid-circle to one\n",
    "        #mask_solid = np.maximum(mask_solid, mask_solid_)\n",
    "        \n",
    "        # build information for region optimization\n",
    "        region_data = {}\n",
    "        region_data['region_idx'] = region_idx\n",
    "        region_data['Region_ID'] = Region_ID\n",
    "        region_data['max_yx'] = max_yx\n",
    "        region_data['min_yx'] = min_yx\n",
    "        region_data['center_yx'] = [int((max_yx[0]+min_yx[0])/2), int((max_yx[1]+min_yx[1])/2)]\n",
    "        region_data['area_size'] = np.count_nonzero(mask_solid_)\n",
    "        region_data['file_name'] = single_mask_name     \n",
    "        region_info.append(region_data)\n",
    "\n",
    "        #return mask_stack"
   ]
  },
  {
   "cell_type": "code",
   "execution_count": 7,
   "metadata": {},
   "outputs": [],
   "source": [
    "def generate_folder(fname):\n",
    "    FILE_folder = OUT_PATH + fname + '/'\n",
    "    MASK_folder = FILE_folder + 'masks/'\n",
    "    IMG_folder = FILE_folder + 'images/'\n",
    "    if not os.path.isdir(FILE_folder):\n",
    "        os.mkdir(FILE_folder)\n",
    "    if not os.path.isdir(MASK_folder):\n",
    "        os.mkdir(MASK_folder)\n",
    "    if not os.path.isdir(IMG_folder):\n",
    "        os.mkdir(IMG_folder)\n",
    "\n",
    "    return MASK_folder, IMG_folder\n",
    "    "
   ]
  },
  {
   "cell_type": "code",
   "execution_count": 11,
   "metadata": {},
   "outputs": [],
   "source": [
    "def Euclidian(list1,list2):\n",
    "    dist = np.sqrt(np.sum(np.square(np.array(list1) - np.array(list2)))) \n",
    "    return dist\n",
    "\n",
    "def mask_optimization(region_info):\n",
    "    accept_dist = 100 #px\n",
    "    for i in range(len(region_info)):\n",
    "        area_size = region_info[i]['area_size']\n",
    "        center_yx = region_info[i]['center_yx']\n",
    "        mask_file = region_info[i]['file_name']\n",
    "        print('region_idx = ' + str(region_info[i]['region_idx']))\n",
    "        print('Region_ID  = ' + str(region_info[i]['Region_ID']))\n",
    "        print('file_name  = ' + region_info[i]['file_name'])\n",
    "        print('center_yx  = ' + str(center_yx))\n",
    "        collect_dist_limitation = lambda element: 0 < Euclidian(element['center_yx'],center_yx) < accept_dist\n",
    "        list_candidate = list(filter(collect_dist_limitation, region_info))        \n",
    "        print('length of list_candidate_1 = ' + str(len(list_candidate)))\n",
    "    \n",
    "        mask_current = np.array(Image.open(mask_file))\n",
    "        for j in range(len(list_candidate)):\n",
    "            mask_file_sel = list_candidate[j]['file_name']\n",
    "            mask_select = np.array(Image.open(mask_file_sel))\n",
    "            print('------------------------------------------')\n",
    "            print('candidat region_idx : ' + str(list_candidate[j]['region_idx']) + '==> ID ' + str(list_candidate[j]['Region_ID']))\n",
    "            #check overlape\n",
    "            overlap_part = mask_current & mask_select\n",
    "            overlap_idx  = overlap_part \n",
    "            if np.count_nonzero(overlap_part) > 0:\n",
    "                print('hit')\n",
    "                if area_size < list_candidate[j]['area_size'] :\n",
    "                    # overlap part belong to region_info[i], pruning candidate area\n",
    "                    print('area_size < candidate')\n",
    "                    mask_select[overlap_part.nonzero()] = 0\n",
    "                    # update idx in region_info\n",
    "                    idx = list_candidate[j]['region_idx']\n",
    "                    region_info[idx]['area_size'] = np.count_nonzero(mask_select)\n",
    "                    updateImg= Image.fromarray(mask_select,'L')\n",
    "                    updateImg.save(region_info[idx]['file_name'],\"PNG\")               \n",
    "                else:\n",
    "                    # overlap part belong to candidate, pruning region_info[i]\n",
    "                    print('area_size > candidate')\n",
    "                    mask_current[overlap_part.nonzero()] = 0\n",
    "                    # update region_info[i] and write back\n",
    "                    region_info[i]['area_size'] = np.count_nonzero(mask_current)\n",
    "                    updateImg= Image.fromarray(mask_current,'L')\n",
    "                    updateImg.save(region_info[i]['file_name'],\"PNG\")             \n",
    "\n",
    "        break"
   ]
  },
  {
   "cell_type": "code",
   "execution_count": 8,
   "metadata": {},
   "outputs": [
    {
     "name": "stdout",
     "output_type": "stream",
     "text": [
      "../orig_data/Annotations/TCGA-38-6178-01Z-00-DX1.xml\n"
     ]
    }
   ],
   "source": [
    "#img_filenames = [TRAIN_PATH + f for f in train_ids]\n",
    "xml_filenames = [XML_PATH + f for f in xml_ids]\n",
    "#print(img_filenames[0])\n",
    "print(xml_filenames[0])"
   ]
  },
  {
   "cell_type": "code",
   "execution_count": 12,
   "metadata": {
    "scrolled": false
   },
   "outputs": [
    {
     "name": "stdout",
     "output_type": "stream",
     "text": [
      "../orig_data/Annotations/TCGA-38-6178-01Z-00-DX1.xml\t424\n",
      "region_idx = 0\n",
      "Region_ID  = 33\n",
      "file_name  = ../orig_data/external_TCGA_train/TCGA-38-6178-01Z-00-DX1/masks/TCGA-38-6178-01Z-00-DX1_0033.png\n",
      "center_yx  = [179, 40]\n",
      "length of list_candidate_1 = 6\n",
      "------------------------------------------\n",
      "candidat region_idx : 1==> ID 34\n",
      "hit\n",
      "area_size > candidate\n",
      "------------------------------------------\n",
      "candidat region_idx : 151==> ID 684\n",
      "------------------------------------------\n",
      "candidat region_idx : 152==> ID 685\n",
      "------------------------------------------\n",
      "candidat region_idx : 153==> ID 686\n",
      "------------------------------------------\n",
      "candidat region_idx : 176==> ID 758\n",
      "------------------------------------------\n",
      "candidat region_idx : 319==> ID 946\n",
      "\n",
      "total region count is 424\n",
      "--- 15.304093837738037 seconds ---\n"
     ]
    }
   ],
   "source": [
    "start_time = time.time()\n",
    "region_count = 0\n",
    "\n",
    "for xml_idx in range(len(xml_filenames)):\n",
    "    fname = re.sub('.*/|\\.xml','',xml_filenames[xml_idx])\n",
    "    # generate ncecssary folder \n",
    "    MASK_folder, IMG_folder = generate_folder(fname)\n",
    "    # move original png to indivitual folder\n",
    "    shutil.copy(TRAIN_PATH+fname+'.png',IMG_folder)\n",
    "    # parsing xml and generate label picture for each region\n",
    "    root = minidom.parse(xml_filenames[xml_idx])\n",
    "    Regions=root.getElementsByTagName('Region');\n",
    "    print(xml_filenames[xml_idx] + '\\t' + str(len(Regions)))\n",
    "    #regions2mask(Regions, xml_idx, MASK_folder)\n",
    "    region_info = []\n",
    "    regions2mask(Regions, xml_idx, MASK_folder, region_info)\n",
    "    #for i in range(len(region_info)):\n",
    "    #    print('ID %4s (%5s) %10s,%10s ==> %10s' %(region_info[i]['Region_ID'],region_info[i]['area_size'],region_info[i]['min_yx'],region_info[i]['max_yx'],region_info[i]['center_yx']))\n",
    "    mask_optimization(region_info)\n",
    "    \n",
    "    region_count += len(Regions)\n",
    "\n",
    "    break\n",
    "print(\"\\ntotal region count is \" + str(region_count))\n",
    "print(\"--- %s seconds ---\" % (time.time() - start_time))    "
   ]
  },
  {
   "cell_type": "code",
   "execution_count": null,
   "metadata": {},
   "outputs": [],
   "source": [
    "def Euclidian(list1,list2):\n",
    "    dist = np.sqrt(np.sum(np.square(np.array(list1) - np.array(list2)))) \n",
    "    return dist\n",
    "\n",
    "accept_dist = 100 #px\n",
    "for i in range(len(region_info)):\n",
    "    area_size = region_info[i]['area_size']\n",
    "    center_yx = region_info[i]['center_yx']\n",
    "    mask_file = region_info[i]['file_name']\n",
    "    print('region_idx = ' + str(region_info[i]['region_idx']))\n",
    "    print('Region_ID  = ' + str(region_info[i]['Region_ID']))\n",
    "    print('file_name  = ' + region_info[i]['file_name'])\n",
    "    print('center_yx  = ' + str(center_yx))\n",
    "    collect_dist_limitation = lambda element: 0 < Euclidian(element['center_yx'],center_yx) < accept_dist\n",
    "    list_candidate = list(filter(collect_dist_limitation, region_info))        \n",
    "    print('length of list_candidate_1 = ' + str(len(list_candidate)))\n",
    "    \n",
    "    mask_current = np.array(Image.open(mask_file))\n",
    "    for j in range(len(list_candidate)):\n",
    "        mask_file_sel = list_candidate[j]['file_name']\n",
    "        mask_select = np.array(Image.open(mask_file_sel))\n",
    "        print('------------------------------------------')\n",
    "        print('candidat region_idx : ' + str(list_candidate[j]['region_idx']) + '==> ID ' + str(list_candidate[j]['Region_ID']))\n",
    "        #check overlape\n",
    "        overlap_part = mask_current & mask_select\n",
    "        overlap_idx  = overlap_part \n",
    "        if np.count_nonzero(overlap_part) > 0:\n",
    "            print('hit')\n",
    "            if area_size < list_candidate[j]['area_size'] :\n",
    "                # overlap part belong to region_info[i], pruning candidate area\n",
    "                print('area_size < candidate')\n",
    "                mask_select[overlap_part.nonzero()] = 0\n",
    "                # update idx in region_info\n",
    "                idx = list_candidate[j]['region_idx']\n",
    "                region_info[idx]['area_size'] = np.count_nonzero(mask_select)\n",
    "                updateImg= Image.fromarray(mask_select,'L')\n",
    "                updateImg.save(region_info[idx]['file_name'],\"PNG\")               \n",
    "            else:\n",
    "                # overlap part belong to candidate, pruning region_info[i]\n",
    "                print('area_size > candidate')\n",
    "                mask_current[overlap_part.nonzero()] = 0\n",
    "                # update region_info[i] and write back\n",
    "                region_info[i]['area_size'] = np.count_nonzero(mask_current)\n",
    "                updateImg= Image.fromarray(mask_current,'L')\n",
    "                updateImg.save(region_info[i]['file_name'],\"PNG\")             \n",
    "\n",
    "    break"
   ]
  },
  {
   "cell_type": "code",
   "execution_count": null,
   "metadata": {},
   "outputs": [],
   "source": []
  },
  {
   "cell_type": "code",
   "execution_count": 10,
   "metadata": {},
   "outputs": [
    {
     "ename": "NameError",
     "evalue": "name 'list_candidate' is not defined",
     "output_type": "error",
     "traceback": [
      "\u001b[0;31m---------------------------------------------------------------------------\u001b[0m",
      "\u001b[0;31mNameError\u001b[0m                                 Traceback (most recent call last)",
      "\u001b[0;32m<ipython-input-10-f0891921d64a>\u001b[0m in \u001b[0;36m<module>\u001b[0;34m()\u001b[0m\n\u001b[1;32m      6\u001b[0m \u001b[0mmask_show\u001b[0m \u001b[0;34m=\u001b[0m \u001b[0mnp\u001b[0m\u001b[0;34m.\u001b[0m\u001b[0marray\u001b[0m\u001b[0;34m(\u001b[0m\u001b[0mImage\u001b[0m\u001b[0;34m.\u001b[0m\u001b[0mopen\u001b[0m\u001b[0;34m(\u001b[0m\u001b[0mregion_info\u001b[0m\u001b[0;34m[\u001b[0m\u001b[0;36m0\u001b[0m\u001b[0;34m]\u001b[0m\u001b[0;34m[\u001b[0m\u001b[0;34m'file_name'\u001b[0m\u001b[0;34m]\u001b[0m\u001b[0;34m)\u001b[0m\u001b[0;34m)\u001b[0m\u001b[0;34m[\u001b[0m\u001b[0;36m0\u001b[0m\u001b[0;34m:\u001b[0m\u001b[0;36m300\u001b[0m\u001b[0;34m,\u001b[0m\u001b[0;36m0\u001b[0m\u001b[0;34m:\u001b[0m\u001b[0;36m300\u001b[0m\u001b[0;34m]\u001b[0m\u001b[0;34m\u001b[0m\u001b[0m\n\u001b[1;32m      7\u001b[0m \u001b[0max\u001b[0m\u001b[0;34m.\u001b[0m\u001b[0mimshow\u001b[0m\u001b[0;34m(\u001b[0m\u001b[0mmask_show\u001b[0m\u001b[0;34m,\u001b[0m\u001b[0malpha\u001b[0m\u001b[0;34m=\u001b[0m\u001b[0;36m0.5\u001b[0m\u001b[0;34m)\u001b[0m\u001b[0;34m\u001b[0m\u001b[0m\n\u001b[0;32m----> 8\u001b[0;31m \u001b[0mmask_sel\u001b[0m   \u001b[0;34m=\u001b[0m \u001b[0mnp\u001b[0m\u001b[0;34m.\u001b[0m\u001b[0marray\u001b[0m\u001b[0;34m(\u001b[0m\u001b[0mImage\u001b[0m\u001b[0;34m.\u001b[0m\u001b[0mopen\u001b[0m\u001b[0;34m(\u001b[0m\u001b[0mlist_candidate\u001b[0m\u001b[0;34m[\u001b[0m\u001b[0;36m0\u001b[0m\u001b[0;34m]\u001b[0m\u001b[0;34m[\u001b[0m\u001b[0;34m'file_name'\u001b[0m\u001b[0;34m]\u001b[0m\u001b[0;34m)\u001b[0m\u001b[0;34m)\u001b[0m\u001b[0;34m[\u001b[0m\u001b[0;36m0\u001b[0m\u001b[0;34m:\u001b[0m\u001b[0;36m300\u001b[0m\u001b[0;34m,\u001b[0m\u001b[0;36m0\u001b[0m\u001b[0;34m:\u001b[0m\u001b[0;36m300\u001b[0m\u001b[0;34m]\u001b[0m\u001b[0;34m\u001b[0m\u001b[0m\n\u001b[0m\u001b[1;32m      9\u001b[0m \u001b[0max\u001b[0m\u001b[0;34m.\u001b[0m\u001b[0mimshow\u001b[0m\u001b[0;34m(\u001b[0m\u001b[0mmask_sel\u001b[0m\u001b[0;34m,\u001b[0m\u001b[0malpha\u001b[0m\u001b[0;34m=\u001b[0m\u001b[0;36m0.5\u001b[0m\u001b[0;34m)\u001b[0m\u001b[0;34m\u001b[0m\u001b[0m\n\u001b[1;32m     10\u001b[0m \u001b[0;34m\u001b[0m\u001b[0m\n",
      "\u001b[0;31mNameError\u001b[0m: name 'list_candidate' is not defined"
     ]
    },
    {
     "data": {
      "image/png": "[encoded data removed]",
      "text/plain": [
       "<matplotlib.figure.Figure at 0x10e78b4a8>"
      ]
     },
     "metadata": {},
     "output_type": "display_data"
    }
   ],
   "source": [
    "from skimage.io import imread, imshow\n",
    "%matplotlib inline\n",
    "plt.figure(figsize=(10, 10))\n",
    "ax = plt.subplot(1,1,1)\n",
    "#mask_show = mask_current[0:300,0:300]\n",
    "mask_show = np.array(Image.open(region_info[0]['file_name']))[0:300,0:300]\n",
    "ax.imshow(mask_show,alpha=0.5)\n",
    "mask_sel   = np.array(Image.open(list_candidate[0]['file_name']))[0:300,0:300]\n",
    "ax.imshow(mask_sel,alpha=0.5)\n",
    "\n",
    "plt.show"
   ]
  },
  {
   "cell_type": "code",
   "execution_count": null,
   "metadata": {},
   "outputs": [],
   "source": [
    "mask_current = np.array(Image.open(mask_file))"
   ]
  },
  {
   "cell_type": "code",
   "execution_count": null,
   "metadata": {},
   "outputs": [],
   "source": [
    "mask_select"
   ]
  },
  {
   "cell_type": "code",
   "execution_count": null,
   "metadata": {},
   "outputs": [],
   "source": [
    "over1 = mask_current & mask_select"
   ]
  },
  {
   "cell_type": "code",
   "execution_count": null,
   "metadata": {},
   "outputs": [],
   "source": [
    "gg = mask_show[180:190,50:60]"
   ]
  },
  {
   "cell_type": "code",
   "execution_count": null,
   "metadata": {},
   "outputs": [],
   "source": [
    "gg"
   ]
  },
  {
   "cell_type": "code",
   "execution_count": null,
   "metadata": {},
   "outputs": [],
   "source": [
    "gg.nonzero()"
   ]
  },
  {
   "cell_type": "code",
   "execution_count": null,
   "metadata": {},
   "outputs": [],
   "source": [
    "gg[gg.nonzero()]=99"
   ]
  },
  {
   "cell_type": "code",
   "execution_count": null,
   "metadata": {},
   "outputs": [],
   "source": [
    "gg"
   ]
  },
  {
   "cell_type": "code",
   "execution_count": null,
   "metadata": {},
   "outputs": [],
   "source": [
    "mask_sel[200:210,40:50]"
   ]
  },
  {
   "cell_type": "code",
   "execution_count": null,
   "metadata": {},
   "outputs": [],
   "source": []
  }
 ],
 "metadata": {
  "kernelspec": {
   "display_name": "Python 3",
   "language": "python",
   "name": "python3"
  },
  "language_info": {
   "codemirror_mode": {
    "name": "ipython",
    "version": 3
   },
   "file_extension": ".py",
   "mimetype": "text/x-python",
   "name": "python",
   "nbconvert_exporter": "python",
   "pygments_lexer": "ipython3",
   "version": "3.5.2"
  }
 },
 "nbformat": 4,
 "nbformat_minor": 2
}
