{
 "cells": [
  {
   "cell_type": "code",
   "execution_count": 1,
   "metadata": {
    "collapsed": true
   },
   "outputs": [],
   "source": [
    "# webstie https://nucleisegmentationbenchmark.weebly.com\n",
    "# paper   https://drive.google.com/file/d/0ByERBiBsEbuTOEJISEpwSkR0SlE/view\n",
    "import os\n",
    "import re\n",
    "import PIL\n",
    "import time\n",
    "import random\n",
    "import shutil\n",
    "import itertools\n",
    "import collections\n",
    "import numpy as np\n",
    "import cv2 as cv\n",
    "import matplotlib.pyplot as plt\n",
    "from xml.dom import minidom\n",
    "from PIL import Image\n"
   ]
  },
  {
   "cell_type": "code",
   "execution_count": 2,
   "metadata": {},
   "outputs": [
    {
     "name": "stdout",
     "output_type": "stream",
     "text": [
      "train_ids = 30\n",
      "xml_ids = 30\n"
     ]
    }
   ],
   "source": [
    "TRAIN_PATH = '../orig_data/Tissue images_png/'\n",
    "XML_PATH   = '../orig_data/Annotations/'\n",
    "OUT_PATH  = '../orig_data/external_TCGA_train/'  # manual create\n",
    "#MASK_PATH  = OUT_PATH + '/masks'\n",
    "#IMG_PATH = OUT_PATH + '/images'\n",
    "\n",
    "train_ids = next(os.walk(TRAIN_PATH))[2]\n",
    "xml_ids = next(os.walk(XML_PATH))[2]\n",
    "print('train_ids = ' + str(len(train_ids)) + '\\nxml_ids = ' + str(len(xml_ids)))\n",
    "IMG_HEIGHT = 1000\n",
    "IMG_WIDTH = 1000\n",
    "IMG_CHANNELS = 1\n",
    "\n",
    "if not os.path.isdir(OUT_PATH):\n",
    "    os.mkdir(OUT_PATH) \n"
   ]
  },
  {
   "cell_type": "code",
   "execution_count": 3,
   "metadata": {
    "collapsed": true
   },
   "outputs": [],
   "source": [
    "def fill_circle(mask_img,vertex_list):\n",
    "    # max x value for each y\n",
    "    max_right = {}     \n",
    "    for i in range(len(vertex_list)):\n",
    "        current_y = vertex_list[i][0]\n",
    "        current_x = vertex_list[i][1]\n",
    "        if current_y not in max_right:\n",
    "            max_right[current_y] = current_x \n",
    "        else:\n",
    "            max_right[current_y] = max(max_right[current_y],current_x)\n",
    "    \n",
    "    for i in range(len(vertex_list)):\n",
    "        current_y = vertex_list[i][0]\n",
    "        current_x = vertex_list[i][1]\n",
    "        mask_img[current_y,current_x:max_right[current_y]] = 255\n",
    "    \n",
    "    return mask_img"
   ]
  },
  {
   "cell_type": "code",
   "execution_count": 4,
   "metadata": {
    "collapsed": true
   },
   "outputs": [],
   "source": [
    "def check_valid_xy(y, x):\n",
    "    if x >= IMG_WIDTH: x = IMG_WIDTH-1\n",
    "    if y >= IMG_HEIGHT: y = IMG_HEIGHT-1                \n",
    "    if x <= 0: x = 0\n",
    "    if y <= 0: y = 0\n",
    "    return y,x"
   ]
  },
  {
   "cell_type": "code",
   "execution_count": 5,
   "metadata": {
    "collapsed": true
   },
   "outputs": [],
   "source": [
    "def generate_miss_node(y, x, py, px):\n",
    "    dist_x = int(x) - px\n",
    "    dist_y = int(y) - py\n",
    "    miss_node = []\n",
    "    if max(abs(dist_y),abs(dist_x)) >= 2 and py != IMG_HEIGHT and px != IMG_WIDTH:\n",
    "        a = int(x); b = px\n",
    "        newx = list(map(int,np.linspace(a,b, abs(b-a)+1).tolist()))\n",
    "        #print('newx => ' + str(newx))\n",
    "        if len(newx) >= 2: newx.pop(-1)\n",
    "        if len(newx) >= 2: newx.pop(0)\n",
    "        a = int(y); b = py\n",
    "        newy = list(map(int,np.linspace(a,b, abs(b-a)+1).tolist()))\n",
    "        #print('newy => ' + str(newy))\n",
    "        if len(newy) >= 2: newy.pop(-1)\n",
    "        if len(newy) >= 2: newy.pop(0)\n",
    "        miss_node = list(itertools.product(newy, newx))\n",
    "    #miss_node = []  # enable this line if you wanna disable this function\n",
    "    return miss_node"
   ]
  },
  {
   "cell_type": "code",
   "execution_count": 28,
   "metadata": {},
   "outputs": [],
   "source": [
    "def regions2mask(Resions, xml_idx, mask_folder, area_size):\n",
    "    mask_contour = np.zeros((IMG_HEIGHT, IMG_WIDTH), dtype=np.uint8)\n",
    "    mask_solid   = np.zeros((IMG_HEIGHT, IMG_WIDTH), dtype=np.uint8)\n",
    "    \n",
    "    #pixel_mask_dict = {}\n",
    "    for region_idx in range(len(Regions)):\n",
    "        #print('region_idx ' + str(region_idx))\n",
    "        Region=Regions.item(region_idx)\n",
    "        verticies=Region.getElementsByTagName('Vertex');\n",
    "        Region_ID = Region.getAttribute('Id')\n",
    "        #print('Region_ID ==> ' + str(Region_ID))\n",
    "        single_mask = np.zeros((IMG_HEIGHT, IMG_WIDTH), dtype=np.uint8)    \n",
    "        vertix_list = []\n",
    "        px   = IMG_WIDTH\n",
    "        py   = IMG_HEIGHT        \n",
    "\n",
    "        for vertexi in range(len(verticies)):\n",
    "            x=int(float(verticies.item(vertexi).getAttribute('X')))\n",
    "            y=int(float(verticies.item(vertexi).getAttribute('Y')))\n",
    "            y, x = check_valid_xy(y, x)\n",
    "\n",
    "            miss_node = generate_miss_node(y, x, py, px)\n",
    "            if miss_node != []:\n",
    "                #print(miss_node)\n",
    "                vertix_list.extend(miss_node)\n",
    "                for node_y, node_x in miss_node:\n",
    "                    mask_contour[node_y,node_x] = 255 \n",
    "                    single_mask[node_y,node_x] = 255 # signal mask\n",
    "            px = x\n",
    "            py = y\n",
    "            # fill mask contour\n",
    "            mask_contour[y, x] = 255 # all for one mask   \n",
    "            single_mask[y, x] = 255 # signal mask\n",
    "            vertix_list.append([y, x]) \n",
    "        # consider relation between first node and last node\n",
    "        miss_node = generate_miss_node(vertix_list[0][0], vertix_list[0][1], vertix_list[-1][0],vertix_list[-1][1])\n",
    "        if miss_node != []:\n",
    "            #print(miss_node)\n",
    "            vertix_list.extend(miss_node)\n",
    "            for node_y, node_x in miss_node:\n",
    "                mask_contour[node_y,node_x] = 255 \n",
    "                single_mask[node_y,node_x] = 255 # signal mask\n",
    "        \n",
    "        # generate folder and file name\n",
    "        fname = re.sub('.*/|\\.xml','',xml_filenames[xml_idx])\n",
    "        sigle_mask_name = mask_folder + fname + '_' + '{:0>4}'.format(str(Region_ID)) + '.png'\n",
    "        #print(sigle_mask_name)\n",
    "\n",
    "        # fill mask circle w/ solid and generate png \n",
    "        mask_solid_ = fill_circle(single_mask,vertix_list )\n",
    "        newImg1= Image.fromarray(mask_solid_,'L')\n",
    "        newImg1.save(sigle_mask_name,\"PNG\")\n",
    "        # merge all single solid-circle to one\n",
    "        #mask_solid = np.maximum(mask_solid, mask_solid_)\n",
    "        area_size[region_idx] = (mask_solid_/255).sum()\n",
    "        if mask_stack.size == 0:\n",
    "            mask_stack = mask_solid\n",
    "        else:\n",
    "            mask_stack = np.vstack((mask_stack, mask_solid))\n",
    "        return mask_stack"
   ]
  },
  {
   "cell_type": "code",
   "execution_count": 7,
   "metadata": {
    "collapsed": true
   },
   "outputs": [],
   "source": [
    "def generate_folder(fname):\n",
    "    FILE_folder = OUT_PATH + fname + '/'\n",
    "    MASK_folder = FILE_folder + 'masks/'\n",
    "    IMG_folder = FILE_folder + 'images/'\n",
    "    if not os.path.isdir(FILE_folder):\n",
    "        os.mkdir(FILE_folder)\n",
    "    if not os.path.isdir(MASK_folder):\n",
    "        os.mkdir(MASK_folder)\n",
    "    if not os.path.isdir(IMG_folder):\n",
    "        os.mkdir(IMG_folder)\n",
    "\n",
    "    return MASK_folder, IMG_folder\n",
    "    "
   ]
  },
  {
   "cell_type": "code",
   "execution_count": null,
   "metadata": {
    "collapsed": true
   },
   "outputs": [],
   "source": [
    "def pixel_based_mask()"
   ]
  },
  {
   "cell_type": "code",
   "execution_count": 8,
   "metadata": {},
   "outputs": [
    {
     "name": "stdout",
     "output_type": "stream",
     "text": [
      "../orig_data/Annotations/TCGA-E2-A14V-01Z-00-DX1.xml\n"
     ]
    }
   ],
   "source": [
    "#img_filenames = [TRAIN_PATH + f for f in train_ids]\n",
    "xml_filenames = [XML_PATH + f for f in xml_ids]\n",
    "#print(img_filenames[0])\n",
    "print(xml_filenames[0])"
   ]
  },
  {
   "cell_type": "code",
   "execution_count": 32,
   "metadata": {
    "scrolled": false
   },
   "outputs": [
    {
     "name": "stdout",
     "output_type": "stream",
     "text": [
      "../orig_data/Annotations/TCGA-E2-A14V-01Z-00-DX1.xml\t378\n",
      "\n",
      "total region count is 378\n",
      "--- 1.6387755870819092 seconds ---\n"
     ]
    }
   ],
   "source": [
    "start_time = time.time()\n",
    "region_count = 0\n",
    "\n",
    "for xml_idx in range(len(xml_filenames)):\n",
    "    fname = re.sub('.*/|\\.xml','',xml_filenames[xml_idx])\n",
    "    # generate ncecssary folder \n",
    "    MASK_folder, IMG_folder = generate_folder(fname)\n",
    "    # move original png to indivitual folder\n",
    "    shutil.copy(TRAIN_PATH+fname+'.png',IMG_folder)\n",
    "    # parsing xml and generate label picture for each region\n",
    "    root = minidom.parse(xml_filenames[xml_idx])\n",
    "    Regions=root.getElementsByTagName('Region');\n",
    "    print(xml_filenames[xml_idx] + '\\t' + str(len(Regions)))\n",
    "    area_size = [0] * len(Regions)\n",
    "    regions2mask(Regions, xml_idx, MASK_folder, area_size)\n",
    "    region_count += len(Regions)\n",
    "\n",
    "    break\n",
    "print(\"\\ntotal region count is \" + str(region_count))\n",
    "print(\"--- %s seconds ---\" % (time.time() - start_time))    "
   ]
  },
  {
   "cell_type": "code",
   "execution_count": 33,
   "metadata": {},
   "outputs": [
    {
     "data": {
      "text/plain": [
       "1000000"
      ]
     },
     "execution_count": 33,
     "metadata": {},
     "output_type": "execute_result"
    }
   ],
   "source": [
    "mask_stack.size"
   ]
  },
  {
   "cell_type": "code",
   "execution_count": 34,
   "metadata": {},
   "outputs": [
    {
     "data": {
      "text/plain": [
       "(1000, 1000)"
      ]
     },
     "execution_count": 34,
     "metadata": {},
     "output_type": "execute_result"
    }
   ],
   "source": [
    "mask_stack.shape"
   ]
  },
  {
   "cell_type": "code",
   "execution_count": 35,
   "metadata": {},
   "outputs": [
    {
     "data": {
      "text/plain": [
       "dtype('uint8')"
      ]
     },
     "execution_count": 35,
     "metadata": {},
     "output_type": "execute_result"
    }
   ],
   "source": [
    "mask_stack.dtype"
   ]
  },
  {
   "cell_type": "code",
   "execution_count": 57,
   "metadata": {},
   "outputs": [
    {
     "name": "stdout",
     "output_type": "stream",
     "text": [
      "[list([[1, 1, 1], [1, 1, 1]]) list([1, 1, 1])]\n",
      "(2,)\n"
     ]
    }
   ],
   "source": [
    "a = np.array([[[1,1,1],[1,1,1],[1,1,1]])\n",
    "print(a)\n",
    "print(a.shape)"
   ]
  },
  {
   "cell_type": "code",
   "execution_count": 48,
   "metadata": {},
   "outputs": [
    {
     "name": "stdout",
     "output_type": "stream",
     "text": [
      "[[[2 2]\n",
      "  [2 2]]]\n",
      "(1, 2, 2)\n"
     ]
    }
   ],
   "source": [
    "b = np.array([[[2,2],[2,2]]])\n",
    "print(b)\n",
    "print(b.shape)"
   ]
  },
  {
   "cell_type": "code",
   "execution_count": 51,
   "metadata": {},
   "outputs": [
    {
     "name": "stdout",
     "output_type": "stream",
     "text": [
      "[[[1 1]\n",
      "  [1 1]]\n",
      "\n",
      " [[2 2]\n",
      "  [2 2]]]\n",
      "(2, 2, 2)\n"
     ]
    }
   ],
   "source": [
    "c = np.vstack((a,b))\n",
    "print(c)\n",
    "print(c.shape)"
   ]
  },
  {
   "cell_type": "code",
   "execution_count": 54,
   "metadata": {},
   "outputs": [
    {
     "data": {
      "text/plain": [
       "(2, 2)"
      ]
     },
     "execution_count": 54,
     "metadata": {},
     "output_type": "execute_result"
    }
   ],
   "source": [
    "c[0].shape"
   ]
  },
  {
   "cell_type": "code",
   "execution_count": 55,
   "metadata": {},
   "outputs": [
    {
     "ename": "NameError",
     "evalue": "name 'mask_solid' is not defined",
     "output_type": "error",
     "traceback": [
      "\u001b[0;31m---------------------------------------------------------------------------\u001b[0m",
      "\u001b[0;31mNameError\u001b[0m                                 Traceback (most recent call last)",
      "\u001b[0;32m<ipython-input-55-a4591976cfba>\u001b[0m in \u001b[0;36m<module>\u001b[0;34m()\u001b[0m\n\u001b[0;32m----> 1\u001b[0;31m \u001b[0mmask_solid\u001b[0m\u001b[0;34m\u001b[0m\u001b[0m\n\u001b[0m",
      "\u001b[0;31mNameError\u001b[0m: name 'mask_solid' is not defined"
     ]
    }
   ],
   "source": [
    "mask_solid"
   ]
  },
  {
   "cell_type": "code",
   "execution_count": null,
   "metadata": {
    "collapsed": true
   },
   "outputs": [],
   "source": []
  }
 ],
 "metadata": {
  "kernelspec": {
   "display_name": "Python 3",
   "language": "python",
   "name": "python3"
  },
  "language_info": {
   "codemirror_mode": {
    "name": "ipython",
    "version": 3
   },
   "file_extension": ".py",
   "mimetype": "text/x-python",
   "name": "python",
   "nbconvert_exporter": "python",
   "pygments_lexer": "ipython3",
   "version": "3.5.2"
  }
 },
 "nbformat": 4,
 "nbformat_minor": 2
}
