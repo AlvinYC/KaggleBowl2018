{
 "cells": [
  {
   "cell_type": "code",
   "execution_count": 1,
   "metadata": {
    "collapsed": true
   },
   "outputs": [],
   "source": [
    "# webstie https://nucleisegmentationbenchmark.weebly.com\n",
    "# paper   https://drive.google.com/file/d/0ByERBiBsEbuTOEJISEpwSkR0SlE/view\n",
    "import os\n",
    "import re\n",
    "import PIL\n",
    "import time\n",
    "import random\n",
    "import shutil\n",
    "import itertools\n",
    "import collections\n",
    "import numpy as np\n",
    "import cv2 as cv\n",
    "import matplotlib.pyplot as plt\n",
    "from xml.dom import minidom\n",
    "from PIL import Image\n",
    "from skimage.io import imread, imshow"
   ]
  },
  {
   "cell_type": "code",
   "execution_count": 2,
   "metadata": {},
   "outputs": [
    {
     "name": "stdout",
     "output_type": "stream",
     "text": [
      "train_ids = 30\n",
      "xml_ids = 30\n"
     ]
    }
   ],
   "source": [
    "TRAIN_PATH = '../orig_data/Tissue images_png/'\n",
    "XML_PATH   = '../orig_data/Annotations/'\n",
    "OUT_PATH  = '../orig_data/external_TCGA_train/'  # manual create\n",
    "#MASK_PATH  = OUT_PATH + '/masks'\n",
    "#IMG_PATH = OUT_PATH + '/images'\n",
    "\n",
    "train_ids = next(os.walk(TRAIN_PATH))[2]\n",
    "xml_ids = next(os.walk(XML_PATH))[2]\n",
    "print('train_ids = ' + str(len(train_ids)) + '\\nxml_ids = ' + str(len(xml_ids)))\n",
    "IMG_HEIGHT = 1000\n",
    "IMG_WIDTH = 1000\n",
    "IMG_CHANNELS = 1\n",
    "\n",
    "mask_dict = {}\n",
    "if not os.path.isdir(OUT_PATH):\n",
    "    os.mkdir(OUT_PATH) \n"
   ]
  },
  {
   "cell_type": "code",
   "execution_count": 3,
   "metadata": {
    "collapsed": true
   },
   "outputs": [],
   "source": [
    "class AutoVivification(dict):\n",
    "    \"\"\"Implementation of perl's autovivification feature.\"\"\"\n",
    "    def __getitem__(self, item):\n",
    "        try:\n",
    "            return dict.__getitem__(self, item)\n",
    "        except KeyError:\n",
    "            value = self[item] = type(self)()\n",
    "            return value"
   ]
  },
  {
   "cell_type": "code",
   "execution_count": 4,
   "metadata": {},
   "outputs": [
    {
     "name": "stdout",
     "output_type": "stream",
     "text": [
      "../orig_data/Annotations/TCGA-E2-A14V-01Z-00-DX1.xml\n"
     ]
    }
   ],
   "source": [
    "#img_filenames = [TRAIN_PATH + f for f in train_ids]\n",
    "xml_filenames = [XML_PATH + f for f in xml_ids]\n",
    "#print(img_filenames[0])\n",
    "print(xml_filenames[0])\n"
   ]
  },
  {
   "cell_type": "code",
   "execution_count": 5,
   "metadata": {
    "collapsed": true
   },
   "outputs": [],
   "source": [
    "def fill_circle(mask_img,vertex_list):\n",
    "    # max x value for each y\n",
    "    max_right = {}     \n",
    "    for i in range(len(vertex_list)):\n",
    "        current_y = vertex_list[i][0]\n",
    "        current_x = vertex_list[i][1]\n",
    "        if current_y not in max_right:\n",
    "            max_right[current_y] = current_x \n",
    "        else:\n",
    "            max_right[current_y] = max(max_right[current_y],current_x)\n",
    "    \n",
    "    for i in range(len(vertex_list)):\n",
    "        current_y = vertex_list[i][0]\n",
    "        current_x = vertex_list[i][1]\n",
    "        mask_img[current_y,current_x:max_right[current_y]] = 255\n",
    "    \n",
    "    return mask_img"
   ]
  },
  {
   "cell_type": "code",
   "execution_count": 6,
   "metadata": {
    "collapsed": true
   },
   "outputs": [],
   "source": [
    "def check_valid_xy(y, x):\n",
    "    if x >= IMG_WIDTH: x = IMG_WIDTH-1\n",
    "    if y >= IMG_HEIGHT: y = IMG_HEIGHT-1                \n",
    "    if x <= 0: x = 0\n",
    "    if y <= 0: y = 0\n",
    "    return y,x"
   ]
  },
  {
   "cell_type": "code",
   "execution_count": 7,
   "metadata": {
    "collapsed": true
   },
   "outputs": [],
   "source": [
    "def generate_miss_node(y, x, py, px):\n",
    "    dist_x = int(x) - px\n",
    "    dist_y = int(y) - py\n",
    "    miss_node = []\n",
    "    if max(abs(dist_y),abs(dist_x)) >= 2 and py != IMG_HEIGHT and px != IMG_WIDTH:\n",
    "        #print('------------------------------------------------------------')\n",
    "        #print('x =>' + str(x) + '\\ty => ' + str(y) )\n",
    "        #print('px =>' + str(px) + '\\tpy => ' + str(py) )\n",
    "        a = int(x); b = px\n",
    "        newx = list(map(int,np.linspace(a,b, abs(b-a)+1).tolist()))\n",
    "        #print('newx => ' + str(newx))\n",
    "        if len(newx) >= 2: newx.pop(-1)\n",
    "        if len(newx) >= 2: newx.pop(0)\n",
    "        a = int(y); b = py\n",
    "        newy = list(map(int,np.linspace(a,b, abs(b-a)+1).tolist()))\n",
    "        #print('newy => ' + str(newy))\n",
    "        if len(newy) >= 2: newy.pop(-1)\n",
    "        if len(newy) >= 2: newy.pop(0)\n",
    "        miss_node = list(itertools.product(newy, newx))\n",
    "    #miss_node = []  # enable this line if you wanna disable this function\n",
    "    return miss_node"
   ]
  },
  {
   "cell_type": "code",
   "execution_count": 8,
   "metadata": {
    "collapsed": true
   },
   "outputs": [],
   "source": [
    "def regions2mask(Resions, xml_idx, mask_folder):\n",
    "    mask_contour = np.zeros((IMG_HEIGHT, IMG_WIDTH), dtype=np.uint8)\n",
    "    mask_solid   = np.zeros((IMG_HEIGHT, IMG_WIDTH), dtype=np.uint8)\n",
    "\n",
    "    for region_idx in range(len(Regions)):\n",
    "        #print('region_idx ' + str(region_idx))\n",
    "        Region=Regions.item(region_idx)\n",
    "        verticies=Region.getElementsByTagName('Vertex');\n",
    "        Region_ID = Region.getAttribute('Id')\n",
    "        #print('Region_ID ==> ' + str(Region_ID))\n",
    "        single_mask = np.zeros((IMG_HEIGHT, IMG_WIDTH), dtype=np.uint8)    \n",
    "        vertix_list = []\n",
    "        px   = IMG_WIDTH\n",
    "        py   = IMG_HEIGHT        \n",
    "\n",
    "        for vertexi in range(len(verticies)):\n",
    "            x=int(float(verticies.item(vertexi).getAttribute('X')))\n",
    "            y=int(float(verticies.item(vertexi).getAttribute('Y')))\n",
    "\n",
    "            y, x = check_valid_xy(y, x)\n",
    "\n",
    "            miss_node = generate_miss_node(y, x, py, px)\n",
    "            if miss_node != []:\n",
    "                #print(miss_node)\n",
    "                vertix_list.extend(miss_node)\n",
    "                for node_y, node_x in miss_node:\n",
    "                    mask_contour[node_y,node_x] = 255 \n",
    "                    single_mask[node_y,node_x] = 255 # signal mask\n",
    "            px = x\n",
    "            py = y\n",
    "            # fill mask contour\n",
    "            mask_contour[y, x] = 255 # all for one mask   \n",
    "            single_mask[y, x] = 255 # signal mask\n",
    "            vertix_list.append([y, x]) \n",
    "        # consider relation between first node and last node\n",
    "        miss_node = generate_miss_node(vertix_list[0][0], vertix_list[0][1], vertix_list[-1][0],vertix_list[-1][1])\n",
    "        if miss_node != []:\n",
    "            #print(miss_node)\n",
    "            vertix_list.extend(miss_node)\n",
    "            for node_y, node_x in miss_node:\n",
    "                mask_contour[node_y,node_x] = 255 \n",
    "                single_mask[node_y,node_x] = 255 # signal mask\n",
    "        \n",
    "        \n",
    "        # generate folder and file name\n",
    "        fname = re.sub('.*/|\\.xml','',xml_filenames[xml_idx])\n",
    "        #sigle_mask_folder = mask_folder + fname\n",
    "        #print(sigle_mask_folder)\n",
    "        #os.mkdir(sigle_mask_folder) if not os.path.isdir(sigle_mask_folder) else 'folder existed .....'\n",
    "        sigle_mask_name = mask_folder + fname + '_' + '{:0>4}'.format(str(Region_ID)) + '.png'\n",
    "        #print(sigle_mask_name)\n",
    "\n",
    "        # fill mask circle w/ solid and generate png \n",
    "        mask_solid_ = fill_circle(single_mask,vertix_list )\n",
    "        newImg1= Image.fromarray(mask_solid_,'L')\n",
    "        newImg1.save(sigle_mask_name,\"PNG\")\n",
    "        # merge all single solid-circle to one\n",
    "        #mask_solid = np.maximum(mask_solid, mask_solid_)\n",
    "        \n",
    "        # dict storage\n",
    "        #if fname not in mask_dict:\n",
    "        #mask_dict[fname]['single_contour'][region_idx] = single_mask\n",
    "        #mask_dict[fname]['single_solid'][region_idx] = mask_solid_\n",
    "        #mask_dict[fname]['Region_Id'][region_idx] = Region_ID\n",
    "        #mask_dict[fname]['solid'] = mask_solid\n",
    "        #mask_dict[fname]['contour'] = mask_contour  \n",
    "\n",
    "    # merge all sub mask and generate png\n",
    "    #mask_contour_name = MASK_PATH + '/'+ fname + '_contour_interpolate.png'\n",
    "    #newImg2= Image.fromarray(mask_contour,'L')\n",
    "    #newImg2.save(mask_contour_name,\"PNG\")\n",
    "    # output multiple solid-circle\n",
    "    #mask_solid_name = MASK_PATH + '/'+ fname + '_solid_interpolate.png'\n",
    "    #mask_solid_name = MASK_PATH + '/'+ fname + '.png'\n",
    "    #newImg3= Image.fromarray(mask_solid,'L')\n",
    "    #newImg3.save(mask_solid_name,\"PNG\")    "
   ]
  },
  {
   "cell_type": "code",
   "execution_count": null,
   "metadata": {
    "collapsed": true
   },
   "outputs": [],
   "source": [
    "def convertTIF2PNG(TRAIN_PATH,tif_fname,png_path):\n",
    "    TIF_full_name = TRAIN_PATH + tif_fname \n",
    "    if os.path.isfile(TIF_full_name+'.tiff'):\n",
    "        TIF_full_name += '.tiff'\n",
    "    elif os.path.isfile(TIF_full_name+'.tif'):\n",
    "        TIF_full_name += '.tif'\n",
    "    else:\n",
    "        print('TRAIN_PATH dont contain subname tiff/tif for ' + tif_fname)\n",
    "        \n",
    "    PNG_full_name = png_path + tif_fname + '.png'\n",
    "    print('TIF_full_name = ' + TIF_full_name)\n",
    "    print('PNG_full_name = ' + PNG_full_name)\n",
    "    '''\n",
    "    # now work unstill\n",
    "    TIF_Img = Image.open(TIF_full_name)\n",
    "    imarray_new = np.array(TIF_Img)\n",
    "    print('TIF_Img size = ' + str(TIF_Img.size))\n",
    "    print(imarray_new.shape)\n",
    "    PNG_Img = Image.fromarray(imarray_new,'RGB')\n",
    "    PNG_Img.save(PNG_full_name,\"PNG\",quailty=100)\n",
    "    '''"
   ]
  },
  {
   "cell_type": "code",
   "execution_count": 9,
   "metadata": {
    "collapsed": true
   },
   "outputs": [],
   "source": [
    "def generate_folder(fname):\n",
    "    FILE_folder = OUT_PATH + fname + '/'\n",
    "    MASK_folder = FILE_folder + 'masks/'\n",
    "    IMG_folder = FILE_folder + 'images/'\n",
    "    if not os.path.isdir(FILE_folder):\n",
    "        os.mkdir(FILE_folder)\n",
    "    if not os.path.isdir(MASK_folder):\n",
    "        os.mkdir(MASK_folder)\n",
    "    if not os.path.isdir(IMG_folder):\n",
    "        os.mkdir(IMG_folder)\n",
    "    #print('FILE_folder = ' + FILE_folder)\n",
    "    #print('MASK_folder = ' + MASK_folder)\n",
    "    #print('IMG_folder = ' + IMG_folder)\n",
    "    return MASK_folder, IMG_folder\n",
    "    "
   ]
  },
  {
   "cell_type": "code",
   "execution_count": 10,
   "metadata": {
    "scrolled": false
   },
   "outputs": [
    {
     "name": "stdout",
     "output_type": "stream",
     "text": [
      "\n",
      "total region count is 16966\n",
      "--- 159.69799828529358 seconds ---\n"
     ]
    }
   ],
   "source": [
    "mask_dict = AutoVivification()\n",
    "start_time = time.time()\n",
    "region_count = 0\n",
    "for xml_idx in range(len(xml_filenames)):\n",
    "    fname = re.sub('.*/|\\.xml','',xml_filenames[xml_idx])\n",
    "    # generate ncecssary folder \n",
    "    MASK_folder, IMG_folder = generate_folder(fname)\n",
    "    # move original png to indivitual folder\n",
    "    shutil.copy(TRAIN_PATH+fname+'.png',IMG_folder)\n",
    "    # parsing xml and generate label picture for each region\n",
    "    root = minidom.parse(xml_filenames[xml_idx])\n",
    "    Regions=root.getElementsByTagName('Region');\n",
    "    #print(xml_filenames[xml_idx] + '\\t' + str(len(Regions)))\n",
    "    regions2mask(Regions, xml_idx, MASK_folder)\n",
    "    region_count += len(Regions)\n",
    "\n",
    "    #break\n",
    "print(\"\\ntotal region count is \" + str(region_count))\n",
    "print(\"--- %s seconds ---\" % (time.time() - start_time))    "
   ]
  },
  {
   "cell_type": "code",
   "execution_count": null,
   "metadata": {
    "collapsed": true
   },
   "outputs": [],
   "source": [
    "#%matplotlib inline\n",
    "#newImg1 = Image.new('PNG', (IMG_HEIGHT,IMG_WIDTH))\n",
    "#mask = np.random.random((IMG_HEIGHT,int(IMG_WIDTH/2)))\n",
    "#mask = mask.reshape((IMG_HEIGHT,IMG_WIDTH))\n",
    "#print(mask.shape)\n",
    "#newImg1= Image.fromarray(singal_mask,'L')\n",
    "#newImg1.save(\"img1.png\",\"PNG\")\n",
    "tmp = mask_dict['TCGA-E2-A14V-01Z-00-DX1']['single_contour'][0]\n",
    "imshow(tmp[200:300,200:300])\n",
    "#newImg1.show()\n",
    "plt.show()"
   ]
  },
  {
   "cell_type": "code",
   "execution_count": null,
   "metadata": {
    "collapsed": true
   },
   "outputs": [],
   "source": [
    "len(mask_dict['TCGA-E2-A14V-01Z-00-DX1']['single_contour'][1])"
   ]
  },
  {
   "cell_type": "code",
   "execution_count": null,
   "metadata": {
    "collapsed": true
   },
   "outputs": [],
   "source": [
    "mask_dict['TCGA-E2-A14V-01Z-00-DX1']['single_contour'][0].shape"
   ]
  },
  {
   "cell_type": "code",
   "execution_count": null,
   "metadata": {
    "collapsed": true
   },
   "outputs": [],
   "source": [
    "xml_filenames[0]"
   ]
  },
  {
   "cell_type": "code",
   "execution_count": null,
   "metadata": {
    "collapsed": true
   },
   "outputs": [],
   "source": [
    "# plot specific region\n",
    "target_fname  = 'TCGA-B0-5711-01Z-00-DX1'\n",
    "target_region = 320 #374\n",
    "#target_fname  = ''\n",
    "#target_region = ''\n",
    "\n",
    "\n",
    "if target_fname != '':\n",
    "    select_id = [i for i, s in enumerate(xml_filenames) if target_fname in s]\n",
    "    xml_idx = select_id[0]\n",
    "    root = minidom.parse(xml_filenames[xml_idx])\n",
    "    Regions=root.getElementsByTagName('Region');\n",
    "else:\n",
    "    xml_idx = random.randint(0, len(xml_filenames))\n",
    "    root = minidom.parse(xml_filenames[xml_idx])\n",
    "    Regions=root.getElementsByTagName('Region');\n",
    "    target_region = random.randint(0, len(Regions))\n",
    "    \n",
    "    \n",
    "plt.figure(figsize=(16, 8))\n",
    "plt.cla()\n",
    "ax1 = plt.subplot(1,2,1)\n",
    "ax2 = plt.subplot(1,2,2)\n",
    "target_contour_mask = mask_dict['TCGA-E2-A14V-01Z-00-DX1']['single_contour'][target_region]\n",
    "target_solid_mask   = mask_dict['TCGA-E2-A14V-01Z-00-DX1']['single_solid'][target_region]\n",
    "min_idx_y = min(np.where(target_contour_mask>0)[0])\n",
    "max_idx_y = max(np.where(target_contour_mask>0)[0])\n",
    "min_idx_x = min(np.where(target_contour_mask>0)[1])\n",
    "max_idx_x = max(np.where(target_contour_mask>0)[1])\n",
    "\n",
    "plot_y_idx = int(min_idx_y/100)*100 + 20\n",
    "plot_x_idx = int(min_idx_x/100)*100 + 80\n",
    "print('Region_Id = ' + str( mask_dict['TCGA-E2-A14V-01Z-00-DX1']['Region_Id'][target_region]))\n",
    "print('plot_y_idx ' + str(plot_y_idx))\n",
    "print('plot_x_idx ' + str(plot_x_idx))\n",
    "print('min_idx_x ==> ' + str(min_idx_x))\n",
    "width=80\n",
    "ax1.imshow(target_contour_mask[plot_y_idx:plot_y_idx+width,plot_x_idx:plot_x_idx+width],cmap='gray')  \n",
    "ax2.imshow(target_solid_mask[plot_y_idx:plot_y_idx+width,plot_x_idx:plot_x_idx+width],cmap='gray')  \n",
    "\n",
    "\n",
    "    \n",
    "plt.show()\n",
    "print(target_contour_mask)\n",
    "#root = minidom.parse(xml_filenames[xml_idx])"
   ]
  },
  {
   "cell_type": "code",
   "execution_count": null,
   "metadata": {
    "collapsed": true
   },
   "outputs": [],
   "source": [
    "target_solid_mask[plot_y_idx:plot_y_idx+width,plot_x_idx:plot_x_idx+width].shape"
   ]
  },
  {
   "cell_type": "code",
   "execution_count": null,
   "metadata": {
    "collapsed": true
   },
   "outputs": [],
   "source": [
    "import pandas as pd\n",
    "print(plot_y_idx)\n",
    "print(plot_x_idx)\n",
    "#xx = pd.DataFrame(target_contour_mask[plot_y_idx:plot_y_idx+width,plot_x_idx:plot_x_idx+width])\n",
    "xx = pd.DataFrame(target_contour_mask[730:770,299:320])\n",
    "#target_contour_mask[plot_y_idx:plot_y_idx+width,plot_x_idx:plot_x_idx+width]\n",
    "xx"
   ]
  },
  {
   "cell_type": "code",
   "execution_count": null,
   "metadata": {
    "collapsed": true
   },
   "outputs": [],
   "source": [
    "mask_dict['TCGA-E2-A14V-01Z-00-DX1']['solid']"
   ]
  },
  {
   "cell_type": "code",
   "execution_count": null,
   "metadata": {
    "collapsed": true
   },
   "outputs": [],
   "source": [
    "target_contour_mask\n",
    "min_idx_y = min(np.where(target_region_mask>0)[0])\n",
    "max_idx_y = max(np.where(target_region_mask>0)[0])\n",
    "min_idx_x = min(np.where(target_region_mask>0)[1])\n",
    "max_idx_x = max(np.where(target_region_mask>0)[1])\n",
    "print(min_idx)\n",
    "print('-----------------')\n",
    "print(min_idx[0])\n"
   ]
  },
  {
   "cell_type": "code",
   "execution_count": null,
   "metadata": {
    "collapsed": true
   },
   "outputs": [],
   "source": [
    "min_idx_y = min(np.where(target_region_mask>0)[0])\n",
    "max_idx_y = max(np.where(target_region_mask>0)[0])\n",
    "print(min_idx_y)\n",
    "print(max_idx_y)"
   ]
  },
  {
   "cell_type": "code",
   "execution_count": null,
   "metadata": {
    "collapsed": true
   },
   "outputs": [],
   "source": [
    "from pprint import pprint\n",
    "pprint(dict(mask_dict))"
   ]
  },
  {
   "cell_type": "code",
   "execution_count": null,
   "metadata": {
    "collapsed": true
   },
   "outputs": [],
   "source": [
    "TIF_full_name = '../orig_data/Tissue images/TCGA-E2-A14V-01Z-00-DX1.tif'\n",
    "PNG_full_name = '../orig_data/external_TCGA_train/TCGA-E2-A14V-01Z-00-DX1/images/TCGA-E2-A14V-01Z-00-DX1.png'"
   ]
  },
  {
   "cell_type": "code",
   "execution_count": null,
   "metadata": {},
   "outputs": [],
   "source": [
    "#from time import sleep\n",
    "ima = Image.open(TIF_full_name)\n",
    "#dtype = {'F': np.float32, 'L': np.uint8, 'RGB': np.uint8}[ima.mode]\n",
    "print('format = ' + ima.format)\n",
    "print('size = '+ str(ima.size))\n",
    "print('mode = ' + ima.mode)\n",
    "im_npp = np.zeros((IMG_HEIGHT, IMG_WIDTH), dtype=np.uint8)\n",
    "im_npp = np.array(ima)\n",
    "#im_npp = np.array(ima)\n",
    "#sleep(5)\n",
    "print(im_npp.shape)"
   ]
  },
  {
   "cell_type": "code",
   "execution_count": null,
   "metadata": {
    "collapsed": true
   },
   "outputs": [],
   "source": [
    "im_npp = np.array(ima)"
   ]
  },
  {
   "cell_type": "code",
   "execution_count": null,
   "metadata": {},
   "outputs": [],
   "source": [
    "im_npp.shape"
   ]
  },
  {
   "cell_type": "code",
   "execution_count": null,
   "metadata": {},
   "outputs": [],
   "source": [
    "ima.getdata()"
   ]
  },
  {
   "cell_type": "code",
   "execution_count": null,
   "metadata": {
    "collapsed": true
   },
   "outputs": [],
   "source": []
  }
 ],
 "metadata": {
  "kernelspec": {
   "display_name": "Python 3",
   "language": "python",
   "name": "python3"
  },
  "language_info": {
   "codemirror_mode": {
    "name": "ipython",
    "version": 3
   },
   "file_extension": ".py",
   "mimetype": "text/x-python",
   "name": "python",
   "nbconvert_exporter": "python",
   "pygments_lexer": "ipython3",
   "version": "3.5.2"
  }
 },
 "nbformat": 4,
 "nbformat_minor": 2
}
